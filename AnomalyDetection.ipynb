{
 "metadata": {
  "language_info": {
   "codemirror_mode": {
    "name": "ipython",
    "version": 3
   },
   "file_extension": ".py",
   "mimetype": "text/x-python",
   "name": "python",
   "nbconvert_exporter": "python",
   "pygments_lexer": "ipython3",
   "version": "3.7.4-final"
  },
  "orig_nbformat": 2,
  "kernelspec": {
   "name": "python3",
   "display_name": "Python 3.7.4 64-bit",
   "metadata": {
    "interpreter": {
     "hash": "aee8b7b246df8f9039afb4144a1f6fd8d2ca17a180786b69acc140d282b71a49"
    }
   }
  }
 },
 "nbformat": 4,
 "nbformat_minor": 2,
 "cells": [
  {
   "cell_type": "code",
   "execution_count": 2,
   "metadata": {},
   "outputs": [],
   "source": [
    "import pandas as pd\n",
    "import numpy as np\n",
    "import matplotlib.pyplot as plt\n"
   ]
  },
  {
   "cell_type": "code",
   "execution_count": 3,
   "metadata": {},
   "outputs": [
    {
     "output_type": "stream",
     "name": "stdout",
     "text": [
      "             0          1\n0    13.046815  14.741152\n1    13.408520  13.763270\n2    14.195915  15.853181\n3    14.914701  16.174260\n4    13.576700  14.042849\n..         ...        ...\n302  12.476629  14.459370\n303  19.582573  10.411619\n304  23.339868  16.298874\n305  18.261188  17.978309\n306   4.752613  24.350407\n\n[307 rows x 2 columns]\n"
     ]
    }
   ],
   "source": [
    "df = pd.read_excel('/Users/gauravsatija/Desktop/CPSC473-Data-Mining/Data_Mining_Project/ex8data1.xlsx', sheet_name='X', header=None)\n",
    "df.head()\n",
    "print(df)"
   ]
  },
  {
   "cell_type": "code",
   "execution_count": 4,
   "metadata": {},
   "outputs": [
    {
     "output_type": "display_data",
     "data": {
      "text/plain": "<Figure size 432x288 with 1 Axes>",
      "image/svg+xml": "<?xml version=\"1.0\" encoding=\"utf-8\" standalone=\"no\"?>\n<!DOCTYPE svg PUBLIC \"-//W3C//DTD SVG 1.1//EN\"\n  \"http://www.w3.org/Graphics/SVG/1.1/DTD/svg11.dtd\">\n<!-- Created with matplotlib (https://matplotlib.org/) -->\n<svg height=\"248.78288pt\" version=\"1.1\" viewBox=\"0 0 378.465625 248.78288\" width=\"378.465625pt\" xmlns=\"http://www.w3.org/2000/svg\" xmlns:xlink=\"http://www.w3.org/1999/xlink\">\n <metadata>\n  <rdf:RDF xmlns:cc=\"http://creativecommons.org/ns#\" xmlns:dc=\"http://purl.org/dc/elements/1.1/\" xmlns:rdf=\"http://www.w3.org/1999/02/22-rdf-syntax-ns#\">\n   <cc:Work>\n    <dc:type rdf:resource=\"http://purl.org/dc/dcmitype/StillImage\"/>\n    <dc:date>2020-12-04T05:38:25.166776</dc:date>\n    <dc:format>image/svg+xml</dc:format>\n    <dc:creator>\n     <cc:Agent>\n      <dc:title>Matplotlib v3.3.3, https://matplotlib.org/</dc:title>\n     </cc:Agent>\n    </dc:creator>\n   </cc:Work>\n  </rdf:RDF>\n </metadata>\n <defs>\n  <style type=\"text/css\">*{stroke-linecap:butt;stroke-linejoin:round;}</style>\n </defs>\n <g id=\"figure_1\">\n  <g id=\"patch_1\">\n   <path d=\"M 0 248.78288 \nL 378.465625 248.78288 \nL 378.465625 0 \nL 0 0 \nz\n\" style=\"fill:none;\"/>\n  </g>\n  <g id=\"axes_1\">\n   <g id=\"patch_2\">\n    <path d=\"M 36.465625 224.904755 \nL 371.265625 224.904755 \nL 371.265625 7.464755 \nL 36.465625 7.464755 \nz\n\" style=\"fill:#ffffff;\"/>\n   </g>\n   <g id=\"PathCollection_1\">\n    <defs>\n     <path d=\"M 0 3 \nC 0.795609 3 1.55874 2.683901 2.12132 2.12132 \nC 2.683901 1.55874 3 0.795609 3 0 \nC 3 -0.795609 2.683901 -1.55874 2.12132 -2.12132 \nC 1.55874 -2.683901 0.795609 -3 0 -3 \nC -0.795609 -3 -1.55874 -2.683901 -2.12132 -2.12132 \nC -2.683901 -1.55874 -3 -0.795609 -3 0 \nC -3 0.795609 -2.683901 1.55874 -2.12132 2.12132 \nC -1.55874 2.683901 -0.795609 3 0 3 \nz\n\" id=\"m5abce7a094\" style=\"stroke:#1f77b4;\"/>\n    </defs>\n    <g clip-path=\"url(#p1d5cb6a212)\">\n     <use style=\"fill:#1f77b4;stroke:#1f77b4;\" x=\"187.500184\" xlink:href=\"#m5abce7a094\" y=\"111.270027\"/>\n     <use style=\"fill:#1f77b4;stroke:#1f77b4;\" x=\"193.423051\" xlink:href=\"#m5abce7a094\" y=\"120.827933\"/>\n     <use style=\"fill:#1f77b4;stroke:#1f77b4;\" x=\"206.316526\" xlink:href=\"#m5abce7a094\" y=\"100.400968\"/>\n     <use style=\"fill:#1f77b4;stroke:#1f77b4;\" x=\"218.086543\" xlink:href=\"#m5abce7a094\" y=\"97.262719\"/>\n     <use style=\"fill:#1f77b4;stroke:#1f77b4;\" x=\"196.176965\" xlink:href=\"#m5abce7a094\" y=\"118.095297\"/>\n     <use style=\"fill:#1f77b4;stroke:#1f77b4;\" x=\"201.837801\" xlink:href=\"#m5abce7a094\" y=\"124.315332\"/>\n     <use style=\"fill:#1f77b4;stroke:#1f77b4;\" x=\"183.821023\" xlink:href=\"#m5abce7a094\" y=\"116.332655\"/>\n     <use style=\"fill:#1f77b4;stroke:#1f77b4;\" x=\"230.558705\" xlink:href=\"#m5abce7a094\" y=\"100.024566\"/>\n     <use style=\"fill:#1f77b4;stroke:#1f77b4;\" x=\"238.525223\" xlink:href=\"#m5abce7a094\" y=\"96.981829\"/>\n     <use style=\"fill:#1f77b4;stroke:#1f77b4;\" x=\"181.271774\" xlink:href=\"#m5abce7a094\" y=\"109.726394\"/>\n     <use style=\"fill:#1f77b4;stroke:#1f77b4;\" x=\"202.855451\" xlink:href=\"#m5abce7a094\" y=\"128.698623\"/>\n     <use style=\"fill:#1f77b4;stroke:#1f77b4;\" x=\"204.114855\" xlink:href=\"#m5abce7a094\" y=\"113.147273\"/>\n     <use style=\"fill:#1f77b4;stroke:#1f77b4;\" x=\"193.117931\" xlink:href=\"#m5abce7a094\" y=\"103.246787\"/>\n     <use style=\"fill:#1f77b4;stroke:#1f77b4;\" x=\"193.177176\" xlink:href=\"#m5abce7a094\" y=\"102.611799\"/>\n     <use style=\"fill:#1f77b4;stroke:#1f77b4;\" x=\"202.764728\" xlink:href=\"#m5abce7a094\" y=\"125.545439\"/>\n     <use style=\"fill:#1f77b4;stroke:#1f77b4;\" x=\"205.857993\" xlink:href=\"#m5abce7a094\" y=\"113.96097\"/>\n     <use style=\"fill:#1f77b4;stroke:#1f77b4;\" x=\"202.482298\" xlink:href=\"#m5abce7a094\" y=\"111.16572\"/>\n     <use style=\"fill:#1f77b4;stroke:#1f77b4;\" x=\"210.624465\" xlink:href=\"#m5abce7a094\" y=\"108.05403\"/>\n     <use style=\"fill:#1f77b4;stroke:#1f77b4;\" x=\"212.683871\" xlink:href=\"#m5abce7a094\" y=\"100.652621\"/>\n     <use style=\"fill:#1f77b4;stroke:#1f77b4;\" x=\"171.574908\" xlink:href=\"#m5abce7a094\" y=\"127.632245\"/>\n     <use style=\"fill:#1f77b4;stroke:#1f77b4;\" x=\"195.725507\" xlink:href=\"#m5abce7a094\" y=\"103.478869\"/>\n     <use style=\"fill:#1f77b4;stroke:#1f77b4;\" x=\"202.883301\" xlink:href=\"#m5abce7a094\" y=\"110.814451\"/>\n     <use style=\"fill:#1f77b4;stroke:#1f77b4;\" x=\"218.99074\" xlink:href=\"#m5abce7a094\" y=\"93.899994\"/>\n     <use style=\"fill:#1f77b4;stroke:#1f77b4;\" x=\"207.29658\" xlink:href=\"#m5abce7a094\" y=\"105.863784\"/>\n     <use style=\"fill:#1f77b4;stroke:#1f77b4;\" x=\"224.956602\" xlink:href=\"#m5abce7a094\" y=\"97.747122\"/>\n     <use style=\"fill:#1f77b4;stroke:#1f77b4;\" x=\"229.882137\" xlink:href=\"#m5abce7a094\" y=\"94.167415\"/>\n     <use style=\"fill:#1f77b4;stroke:#1f77b4;\" x=\"196.899315\" xlink:href=\"#m5abce7a094\" y=\"104.249082\"/>\n     <use style=\"fill:#1f77b4;stroke:#1f77b4;\" x=\"216.461896\" xlink:href=\"#m5abce7a094\" y=\"105.421091\"/>\n     <use style=\"fill:#1f77b4;stroke:#1f77b4;\" x=\"212.821846\" xlink:href=\"#m5abce7a094\" y=\"112.528649\"/>\n     <use style=\"fill:#1f77b4;stroke:#1f77b4;\" x=\"211.11686\" xlink:href=\"#m5abce7a094\" y=\"102.476079\"/>\n     <use style=\"fill:#1f77b4;stroke:#1f77b4;\" x=\"228.113641\" xlink:href=\"#m5abce7a094\" y=\"112.30092\"/>\n     <use style=\"fill:#1f77b4;stroke:#1f77b4;\" x=\"202.700176\" xlink:href=\"#m5abce7a094\" y=\"111.033857\"/>\n     <use style=\"fill:#1f77b4;stroke:#1f77b4;\" x=\"185.97461\" xlink:href=\"#m5abce7a094\" y=\"110.467256\"/>\n     <use style=\"fill:#1f77b4;stroke:#1f77b4;\" x=\"184.897552\" xlink:href=\"#m5abce7a094\" y=\"107.996436\"/>\n     <use style=\"fill:#1f77b4;stroke:#1f77b4;\" x=\"236.214964\" xlink:href=\"#m5abce7a094\" y=\"96.449417\"/>\n     <use style=\"fill:#1f77b4;stroke:#1f77b4;\" x=\"218.276359\" xlink:href=\"#m5abce7a094\" y=\"96.060596\"/>\n     <use style=\"fill:#1f77b4;stroke:#1f77b4;\" x=\"177.98277\" xlink:href=\"#m5abce7a094\" y=\"116.723381\"/>\n     <use style=\"fill:#1f77b4;stroke:#1f77b4;\" x=\"204.49479\" xlink:href=\"#m5abce7a094\" y=\"114.194729\"/>\n     <use style=\"fill:#1f77b4;stroke:#1f77b4;\" x=\"211.904616\" xlink:href=\"#m5abce7a094\" y=\"116.146413\"/>\n     <use style=\"fill:#1f77b4;stroke:#1f77b4;\" x=\"206.751994\" xlink:href=\"#m5abce7a094\" y=\"104.59717\"/>\n     <use style=\"fill:#1f77b4;stroke:#1f77b4;\" x=\"211.608391\" xlink:href=\"#m5abce7a094\" y=\"118.526651\"/>\n     <use style=\"fill:#1f77b4;stroke:#1f77b4;\" x=\"188.693897\" xlink:href=\"#m5abce7a094\" y=\"112.055218\"/>\n     <use style=\"fill:#1f77b4;stroke:#1f77b4;\" x=\"211.474182\" xlink:href=\"#m5abce7a094\" y=\"105.762342\"/>\n     <use style=\"fill:#1f77b4;stroke:#1f77b4;\" x=\"206.098895\" xlink:href=\"#m5abce7a094\" y=\"104.89012\"/>\n     <use style=\"fill:#1f77b4;stroke:#1f77b4;\" x=\"214.841336\" xlink:href=\"#m5abce7a094\" y=\"101.568819\"/>\n     <use style=\"fill:#1f77b4;stroke:#1f77b4;\" x=\"200.39918\" xlink:href=\"#m5abce7a094\" y=\"97.290863\"/>\n     <use style=\"fill:#1f77b4;stroke:#1f77b4;\" x=\"235.870637\" xlink:href=\"#m5abce7a094\" y=\"111.747224\"/>\n     <use style=\"fill:#1f77b4;stroke:#1f77b4;\" x=\"205.1885\" xlink:href=\"#m5abce7a094\" y=\"99.800384\"/>\n     <use style=\"fill:#1f77b4;stroke:#1f77b4;\" x=\"200.583208\" xlink:href=\"#m5abce7a094\" y=\"115.177303\"/>\n     <use style=\"fill:#1f77b4;stroke:#1f77b4;\" x=\"226.266772\" xlink:href=\"#m5abce7a094\" y=\"96.596401\"/>\n     <use style=\"fill:#1f77b4;stroke:#1f77b4;\" x=\"190.872128\" xlink:href=\"#m5abce7a094\" y=\"108.65584\"/>\n     <use style=\"fill:#1f77b4;stroke:#1f77b4;\" x=\"197.678583\" xlink:href=\"#m5abce7a094\" y=\"115.006581\"/>\n     <use style=\"fill:#1f77b4;stroke:#1f77b4;\" x=\"199.4298\" xlink:href=\"#m5abce7a094\" y=\"111.300007\"/>\n     <use style=\"fill:#1f77b4;stroke:#1f77b4;\" x=\"205.168789\" xlink:href=\"#m5abce7a094\" y=\"109.42608\"/>\n     <use style=\"fill:#1f77b4;stroke:#1f77b4;\" x=\"212.069524\" xlink:href=\"#m5abce7a094\" y=\"102.549181\"/>\n     <use style=\"fill:#1f77b4;stroke:#1f77b4;\" x=\"205.606937\" xlink:href=\"#m5abce7a094\" y=\"113.272985\"/>\n     <use style=\"fill:#1f77b4;stroke:#1f77b4;\" x=\"205.179567\" xlink:href=\"#m5abce7a094\" y=\"105.37114\"/>\n     <use style=\"fill:#1f77b4;stroke:#1f77b4;\" x=\"207.419074\" xlink:href=\"#m5abce7a094\" y=\"108.881078\"/>\n     <use style=\"fill:#1f77b4;stroke:#1f77b4;\" x=\"215.770197\" xlink:href=\"#m5abce7a094\" y=\"106.267239\"/>\n     <use style=\"fill:#1f77b4;stroke:#1f77b4;\" x=\"206.542245\" xlink:href=\"#m5abce7a094\" y=\"97.541614\"/>\n     <use style=\"fill:#1f77b4;stroke:#1f77b4;\" x=\"191.001783\" xlink:href=\"#m5abce7a094\" y=\"104.046886\"/>\n     <use style=\"fill:#1f77b4;stroke:#1f77b4;\" x=\"207.246924\" xlink:href=\"#m5abce7a094\" y=\"108.433675\"/>\n     <use style=\"fill:#1f77b4;stroke:#1f77b4;\" x=\"185.443981\" xlink:href=\"#m5abce7a094\" y=\"126.399689\"/>\n     <use style=\"fill:#1f77b4;stroke:#1f77b4;\" x=\"200.692032\" xlink:href=\"#m5abce7a094\" y=\"125.041916\"/>\n     <use style=\"fill:#1f77b4;stroke:#1f77b4;\" x=\"202.593754\" xlink:href=\"#m5abce7a094\" y=\"126.350848\"/>\n     <use style=\"fill:#1f77b4;stroke:#1f77b4;\" x=\"190.861199\" xlink:href=\"#m5abce7a094\" y=\"105.138634\"/>\n     <use style=\"fill:#1f77b4;stroke:#1f77b4;\" x=\"198.269619\" xlink:href=\"#m5abce7a094\" y=\"126.193479\"/>\n     <use style=\"fill:#1f77b4;stroke:#1f77b4;\" x=\"211.439112\" xlink:href=\"#m5abce7a094\" y=\"104.238904\"/>\n     <use style=\"fill:#1f77b4;stroke:#1f77b4;\" x=\"230.788948\" xlink:href=\"#m5abce7a094\" y=\"94.257886\"/>\n     <use style=\"fill:#1f77b4;stroke:#1f77b4;\" x=\"186.012802\" xlink:href=\"#m5abce7a094\" y=\"133.790706\"/>\n     <use style=\"fill:#1f77b4;stroke:#1f77b4;\" x=\"196.445946\" xlink:href=\"#m5abce7a094\" y=\"110.285322\"/>\n     <use style=\"fill:#1f77b4;stroke:#1f77b4;\" x=\"221.591509\" xlink:href=\"#m5abce7a094\" y=\"87.727591\"/>\n     <use style=\"fill:#1f77b4;stroke:#1f77b4;\" x=\"207.48136\" xlink:href=\"#m5abce7a094\" y=\"102.137445\"/>\n     <use style=\"fill:#1f77b4;stroke:#1f77b4;\" x=\"230.314464\" xlink:href=\"#m5abce7a094\" y=\"110.582791\"/>\n     <use style=\"fill:#1f77b4;stroke:#1f77b4;\" x=\"208.669788\" xlink:href=\"#m5abce7a094\" y=\"103.930957\"/>\n     <use style=\"fill:#1f77b4;stroke:#1f77b4;\" x=\"207.6308\" xlink:href=\"#m5abce7a094\" y=\"111.614519\"/>\n     <use style=\"fill:#1f77b4;stroke:#1f77b4;\" x=\"217.198861\" xlink:href=\"#m5abce7a094\" y=\"102.973246\"/>\n     <use style=\"fill:#1f77b4;stroke:#1f77b4;\" x=\"204.813805\" xlink:href=\"#m5abce7a094\" y=\"106.975764\"/>\n     <use style=\"fill:#1f77b4;stroke:#1f77b4;\" x=\"235.666296\" xlink:href=\"#m5abce7a094\" y=\"102.669819\"/>\n     <use style=\"fill:#1f77b4;stroke:#1f77b4;\" x=\"194.507323\" xlink:href=\"#m5abce7a094\" y=\"102.943302\"/>\n     <use style=\"fill:#1f77b4;stroke:#1f77b4;\" x=\"199.446638\" xlink:href=\"#m5abce7a094\" y=\"108.818767\"/>\n     <use style=\"fill:#1f77b4;stroke:#1f77b4;\" x=\"183.912347\" xlink:href=\"#m5abce7a094\" y=\"102.178014\"/>\n     <use style=\"fill:#1f77b4;stroke:#1f77b4;\" x=\"197.731844\" xlink:href=\"#m5abce7a094\" y=\"107.571621\"/>\n     <use style=\"fill:#1f77b4;stroke:#1f77b4;\" x=\"225.821077\" xlink:href=\"#m5abce7a094\" y=\"103.174968\"/>\n     <use style=\"fill:#1f77b4;stroke:#1f77b4;\" x=\"228.378281\" xlink:href=\"#m5abce7a094\" y=\"103.702161\"/>\n     <use style=\"fill:#1f77b4;stroke:#1f77b4;\" x=\"200.702343\" xlink:href=\"#m5abce7a094\" y=\"102.809857\"/>\n     <use style=\"fill:#1f77b4;stroke:#1f77b4;\" x=\"196.972011\" xlink:href=\"#m5abce7a094\" y=\"114.095301\"/>\n     <use style=\"fill:#1f77b4;stroke:#1f77b4;\" x=\"219.741675\" xlink:href=\"#m5abce7a094\" y=\"109.554788\"/>\n     <use style=\"fill:#1f77b4;stroke:#1f77b4;\" x=\"200.430464\" xlink:href=\"#m5abce7a094\" y=\"106.302303\"/>\n     <use style=\"fill:#1f77b4;stroke:#1f77b4;\" x=\"206.824631\" xlink:href=\"#m5abce7a094\" y=\"115.112884\"/>\n     <use style=\"fill:#1f77b4;stroke:#1f77b4;\" x=\"190.621413\" xlink:href=\"#m5abce7a094\" y=\"112.546179\"/>\n     <use style=\"fill:#1f77b4;stroke:#1f77b4;\" x=\"193.035115\" xlink:href=\"#m5abce7a094\" y=\"111.34782\"/>\n     <use style=\"fill:#1f77b4;stroke:#1f77b4;\" x=\"201.001022\" xlink:href=\"#m5abce7a094\" y=\"108.994208\"/>\n     <use style=\"fill:#1f77b4;stroke:#1f77b4;\" x=\"176.817936\" xlink:href=\"#m5abce7a094\" y=\"112.21489\"/>\n     <use style=\"fill:#1f77b4;stroke:#1f77b4;\" x=\"208.378952\" xlink:href=\"#m5abce7a094\" y=\"113.344538\"/>\n     <use style=\"fill:#1f77b4;stroke:#1f77b4;\" x=\"233.068721\" xlink:href=\"#m5abce7a094\" y=\"101.739886\"/>\n     <use style=\"fill:#1f77b4;stroke:#1f77b4;\" x=\"232.612224\" xlink:href=\"#m5abce7a094\" y=\"98.789144\"/>\n     <use style=\"fill:#1f77b4;stroke:#1f77b4;\" x=\"214.530108\" xlink:href=\"#m5abce7a094\" y=\"117.419536\"/>\n     <use style=\"fill:#1f77b4;stroke:#1f77b4;\" x=\"214.668878\" xlink:href=\"#m5abce7a094\" y=\"94.465933\"/>\n     <use style=\"fill:#1f77b4;stroke:#1f77b4;\" x=\"196.420443\" xlink:href=\"#m5abce7a094\" y=\"109.52439\"/>\n     <use style=\"fill:#1f77b4;stroke:#1f77b4;\" x=\"175.26866\" xlink:href=\"#m5abce7a094\" y=\"110.976392\"/>\n     <use style=\"fill:#1f77b4;stroke:#1f77b4;\" x=\"193.267937\" xlink:href=\"#m5abce7a094\" y=\"97.801571\"/>\n     <use style=\"fill:#1f77b4;stroke:#1f77b4;\" x=\"221.630519\" xlink:href=\"#m5abce7a094\" y=\"99.940314\"/>\n     <use style=\"fill:#1f77b4;stroke:#1f77b4;\" x=\"225.800922\" xlink:href=\"#m5abce7a094\" y=\"101.756061\"/>\n     <use style=\"fill:#1f77b4;stroke:#1f77b4;\" x=\"226.931806\" xlink:href=\"#m5abce7a094\" y=\"104.435305\"/>\n     <use style=\"fill:#1f77b4;stroke:#1f77b4;\" x=\"199.006798\" xlink:href=\"#m5abce7a094\" y=\"106.12027\"/>\n     <use style=\"fill:#1f77b4;stroke:#1f77b4;\" x=\"230.931678\" xlink:href=\"#m5abce7a094\" y=\"98.419009\"/>\n     <use style=\"fill:#1f77b4;stroke:#1f77b4;\" x=\"216.303389\" xlink:href=\"#m5abce7a094\" y=\"115.263357\"/>\n     <use style=\"fill:#1f77b4;stroke:#1f77b4;\" x=\"222.303538\" xlink:href=\"#m5abce7a094\" y=\"92.063063\"/>\n     <use style=\"fill:#1f77b4;stroke:#1f77b4;\" x=\"158.063757\" xlink:href=\"#m5abce7a094\" y=\"107.440478\"/>\n     <use style=\"fill:#1f77b4;stroke:#1f77b4;\" x=\"201.270192\" xlink:href=\"#m5abce7a094\" y=\"113.768977\"/>\n     <use style=\"fill:#1f77b4;stroke:#1f77b4;\" x=\"224.819383\" xlink:href=\"#m5abce7a094\" y=\"93.245759\"/>\n     <use style=\"fill:#1f77b4;stroke:#1f77b4;\" x=\"186.327014\" xlink:href=\"#m5abce7a094\" y=\"107.170628\"/>\n     <use style=\"fill:#1f77b4;stroke:#1f77b4;\" x=\"204.324737\" xlink:href=\"#m5abce7a094\" y=\"87.044158\"/>\n     <use style=\"fill:#1f77b4;stroke:#1f77b4;\" x=\"206.089093\" xlink:href=\"#m5abce7a094\" y=\"81.044981\"/>\n     <use style=\"fill:#1f77b4;stroke:#1f77b4;\" x=\"174.28379\" xlink:href=\"#m5abce7a094\" y=\"111.392048\"/>\n     <use style=\"fill:#1f77b4;stroke:#1f77b4;\" x=\"216.626869\" xlink:href=\"#m5abce7a094\" y=\"99.503456\"/>\n     <use style=\"fill:#1f77b4;stroke:#1f77b4;\" x=\"188.332329\" xlink:href=\"#m5abce7a094\" y=\"96.714343\"/>\n     <use style=\"fill:#1f77b4;stroke:#1f77b4;\" x=\"200.776485\" xlink:href=\"#m5abce7a094\" y=\"108.395314\"/>\n     <use style=\"fill:#1f77b4;stroke:#1f77b4;\" x=\"228.080519\" xlink:href=\"#m5abce7a094\" y=\"91.278281\"/>\n     <use style=\"fill:#1f77b4;stroke:#1f77b4;\" x=\"224.641308\" xlink:href=\"#m5abce7a094\" y=\"112.95897\"/>\n     <use style=\"fill:#1f77b4;stroke:#1f77b4;\" x=\"203.605405\" xlink:href=\"#m5abce7a094\" y=\"102.256277\"/>\n     <use style=\"fill:#1f77b4;stroke:#1f77b4;\" x=\"210.037141\" xlink:href=\"#m5abce7a094\" y=\"109.315788\"/>\n     <use style=\"fill:#1f77b4;stroke:#1f77b4;\" x=\"197.150477\" xlink:href=\"#m5abce7a094\" y=\"109.09076\"/>\n     <use style=\"fill:#1f77b4;stroke:#1f77b4;\" x=\"211.865385\" xlink:href=\"#m5abce7a094\" y=\"124.807469\"/>\n     <use style=\"fill:#1f77b4;stroke:#1f77b4;\" x=\"213.18983\" xlink:href=\"#m5abce7a094\" y=\"117.02444\"/>\n     <use style=\"fill:#1f77b4;stroke:#1f77b4;\" x=\"188.057588\" xlink:href=\"#m5abce7a094\" y=\"118.235946\"/>\n     <use style=\"fill:#1f77b4;stroke:#1f77b4;\" x=\"218.489135\" xlink:href=\"#m5abce7a094\" y=\"113.144842\"/>\n     <use style=\"fill:#1f77b4;stroke:#1f77b4;\" x=\"236.302357\" xlink:href=\"#m5abce7a094\" y=\"101.803772\"/>\n     <use style=\"fill:#1f77b4;stroke:#1f77b4;\" x=\"208.336128\" xlink:href=\"#m5abce7a094\" y=\"107.590338\"/>\n     <use style=\"fill:#1f77b4;stroke:#1f77b4;\" x=\"217.21593\" xlink:href=\"#m5abce7a094\" y=\"115.732563\"/>\n     <use style=\"fill:#1f77b4;stroke:#1f77b4;\" x=\"203.342942\" xlink:href=\"#m5abce7a094\" y=\"91.344974\"/>\n     <use style=\"fill:#1f77b4;stroke:#1f77b4;\" x=\"193.408879\" xlink:href=\"#m5abce7a094\" y=\"112.645636\"/>\n     <use style=\"fill:#1f77b4;stroke:#1f77b4;\" x=\"188.036987\" xlink:href=\"#m5abce7a094\" y=\"116.618925\"/>\n     <use style=\"fill:#1f77b4;stroke:#1f77b4;\" x=\"181.628024\" xlink:href=\"#m5abce7a094\" y=\"120.360474\"/>\n     <use style=\"fill:#1f77b4;stroke:#1f77b4;\" x=\"206.257785\" xlink:href=\"#m5abce7a094\" y=\"105.172668\"/>\n     <use style=\"fill:#1f77b4;stroke:#1f77b4;\" x=\"217.287333\" xlink:href=\"#m5abce7a094\" y=\"113.906728\"/>\n     <use style=\"fill:#1f77b4;stroke:#1f77b4;\" x=\"193.177147\" xlink:href=\"#m5abce7a094\" y=\"115.152815\"/>\n     <use style=\"fill:#1f77b4;stroke:#1f77b4;\" x=\"196.338943\" xlink:href=\"#m5abce7a094\" y=\"114.687705\"/>\n     <use style=\"fill:#1f77b4;stroke:#1f77b4;\" x=\"188.406986\" xlink:href=\"#m5abce7a094\" y=\"114.838738\"/>\n     <use style=\"fill:#1f77b4;stroke:#1f77b4;\" x=\"211.979782\" xlink:href=\"#m5abce7a094\" y=\"95.326668\"/>\n     <use style=\"fill:#1f77b4;stroke:#1f77b4;\" x=\"207.300855\" xlink:href=\"#m5abce7a094\" y=\"108.326103\"/>\n     <use style=\"fill:#1f77b4;stroke:#1f77b4;\" x=\"238.929228\" xlink:href=\"#m5abce7a094\" y=\"95.433082\"/>\n     <use style=\"fill:#1f77b4;stroke:#1f77b4;\" x=\"197.097626\" xlink:href=\"#m5abce7a094\" y=\"122.141576\"/>\n     <use style=\"fill:#1f77b4;stroke:#1f77b4;\" x=\"213.809309\" xlink:href=\"#m5abce7a094\" y=\"108.969797\"/>\n     <use style=\"fill:#1f77b4;stroke:#1f77b4;\" x=\"180.496704\" xlink:href=\"#m5abce7a094\" y=\"91.418959\"/>\n     <use style=\"fill:#1f77b4;stroke:#1f77b4;\" x=\"187.294878\" xlink:href=\"#m5abce7a094\" y=\"116.003238\"/>\n     <use style=\"fill:#1f77b4;stroke:#1f77b4;\" x=\"151.681582\" xlink:href=\"#m5abce7a094\" y=\"113.830915\"/>\n     <use style=\"fill:#1f77b4;stroke:#1f77b4;\" x=\"185.666945\" xlink:href=\"#m5abce7a094\" y=\"112.576681\"/>\n     <use style=\"fill:#1f77b4;stroke:#1f77b4;\" x=\"202.981833\" xlink:href=\"#m5abce7a094\" y=\"109.110193\"/>\n     <use style=\"fill:#1f77b4;stroke:#1f77b4;\" x=\"179.733128\" xlink:href=\"#m5abce7a094\" y=\"106.811863\"/>\n     <use style=\"fill:#1f77b4;stroke:#1f77b4;\" x=\"230.661881\" xlink:href=\"#m5abce7a094\" y=\"96.803539\"/>\n     <use style=\"fill:#1f77b4;stroke:#1f77b4;\" x=\"190.214584\" xlink:href=\"#m5abce7a094\" y=\"115.075322\"/>\n     <use style=\"fill:#1f77b4;stroke:#1f77b4;\" x=\"202.940607\" xlink:href=\"#m5abce7a094\" y=\"113.388031\"/>\n     <use style=\"fill:#1f77b4;stroke:#1f77b4;\" x=\"194.368638\" xlink:href=\"#m5abce7a094\" y=\"121.860216\"/>\n     <use style=\"fill:#1f77b4;stroke:#1f77b4;\" x=\"188.889569\" xlink:href=\"#m5abce7a094\" y=\"100.932241\"/>\n     <use style=\"fill:#1f77b4;stroke:#1f77b4;\" x=\"208.911576\" xlink:href=\"#m5abce7a094\" y=\"108.512365\"/>\n     <use style=\"fill:#1f77b4;stroke:#1f77b4;\" x=\"195.793704\" xlink:href=\"#m5abce7a094\" y=\"121.13173\"/>\n     <use style=\"fill:#1f77b4;stroke:#1f77b4;\" x=\"186.508999\" xlink:href=\"#m5abce7a094\" y=\"110.598698\"/>\n     <use style=\"fill:#1f77b4;stroke:#1f77b4;\" x=\"209.21052\" xlink:href=\"#m5abce7a094\" y=\"109.21425\"/>\n     <use style=\"fill:#1f77b4;stroke:#1f77b4;\" x=\"196.373315\" xlink:href=\"#m5abce7a094\" y=\"106.806895\"/>\n     <use style=\"fill:#1f77b4;stroke:#1f77b4;\" x=\"174.616566\" xlink:href=\"#m5abce7a094\" y=\"102.742253\"/>\n     <use style=\"fill:#1f77b4;stroke:#1f77b4;\" x=\"197.639655\" xlink:href=\"#m5abce7a094\" y=\"94.614785\"/>\n     <use style=\"fill:#1f77b4;stroke:#1f77b4;\" x=\"208.76671\" xlink:href=\"#m5abce7a094\" y=\"104.353054\"/>\n     <use style=\"fill:#1f77b4;stroke:#1f77b4;\" x=\"213.042665\" xlink:href=\"#m5abce7a094\" y=\"101.149932\"/>\n     <use style=\"fill:#1f77b4;stroke:#1f77b4;\" x=\"205.625186\" xlink:href=\"#m5abce7a094\" y=\"93.351659\"/>\n     <use style=\"fill:#1f77b4;stroke:#1f77b4;\" x=\"203.910735\" xlink:href=\"#m5abce7a094\" y=\"114.694514\"/>\n     <use style=\"fill:#1f77b4;stroke:#1f77b4;\" x=\"204.231349\" xlink:href=\"#m5abce7a094\" y=\"112.418578\"/>\n     <use style=\"fill:#1f77b4;stroke:#1f77b4;\" x=\"234.038929\" xlink:href=\"#m5abce7a094\" y=\"95.671535\"/>\n     <use style=\"fill:#1f77b4;stroke:#1f77b4;\" x=\"202.715685\" xlink:href=\"#m5abce7a094\" y=\"100.509624\"/>\n     <use style=\"fill:#1f77b4;stroke:#1f77b4;\" x=\"152.055139\" xlink:href=\"#m5abce7a094\" y=\"123.775871\"/>\n     <use style=\"fill:#1f77b4;stroke:#1f77b4;\" x=\"201.621663\" xlink:href=\"#m5abce7a094\" y=\"108.96898\"/>\n     <use style=\"fill:#1f77b4;stroke:#1f77b4;\" x=\"176.380776\" xlink:href=\"#m5abce7a094\" y=\"107.351623\"/>\n     <use style=\"fill:#1f77b4;stroke:#1f77b4;\" x=\"222.228655\" xlink:href=\"#m5abce7a094\" y=\"103.663973\"/>\n     <use style=\"fill:#1f77b4;stroke:#1f77b4;\" x=\"225.013016\" xlink:href=\"#m5abce7a094\" y=\"116.234879\"/>\n     <use style=\"fill:#1f77b4;stroke:#1f77b4;\" x=\"195.74921\" xlink:href=\"#m5abce7a094\" y=\"101.600644\"/>\n     <use style=\"fill:#1f77b4;stroke:#1f77b4;\" x=\"196.217689\" xlink:href=\"#m5abce7a094\" y=\"104.120365\"/>\n     <use style=\"fill:#1f77b4;stroke:#1f77b4;\" x=\"207.116865\" xlink:href=\"#m5abce7a094\" y=\"107.908342\"/>\n     <use style=\"fill:#1f77b4;stroke:#1f77b4;\" x=\"224.901139\" xlink:href=\"#m5abce7a094\" y=\"101.786495\"/>\n     <use style=\"fill:#1f77b4;stroke:#1f77b4;\" x=\"234.501488\" xlink:href=\"#m5abce7a094\" y=\"107.210246\"/>\n     <use style=\"fill:#1f77b4;stroke:#1f77b4;\" x=\"200.7212\" xlink:href=\"#m5abce7a094\" y=\"105.600032\"/>\n     <use style=\"fill:#1f77b4;stroke:#1f77b4;\" x=\"204.539053\" xlink:href=\"#m5abce7a094\" y=\"115.510695\"/>\n     <use style=\"fill:#1f77b4;stroke:#1f77b4;\" x=\"180.774945\" xlink:href=\"#m5abce7a094\" y=\"102.380416\"/>\n     <use style=\"fill:#1f77b4;stroke:#1f77b4;\" x=\"209.049698\" xlink:href=\"#m5abce7a094\" y=\"119.765642\"/>\n     <use style=\"fill:#1f77b4;stroke:#1f77b4;\" x=\"211.306784\" xlink:href=\"#m5abce7a094\" y=\"112.477734\"/>\n     <use style=\"fill:#1f77b4;stroke:#1f77b4;\" x=\"202.614673\" xlink:href=\"#m5abce7a094\" y=\"97.270966\"/>\n     <use style=\"fill:#1f77b4;stroke:#1f77b4;\" x=\"221.633837\" xlink:href=\"#m5abce7a094\" y=\"105.912892\"/>\n     <use style=\"fill:#1f77b4;stroke:#1f77b4;\" x=\"221.988697\" xlink:href=\"#m5abce7a094\" y=\"118.380907\"/>\n     <use style=\"fill:#1f77b4;stroke:#1f77b4;\" x=\"191.811753\" xlink:href=\"#m5abce7a094\" y=\"114.696328\"/>\n     <use style=\"fill:#1f77b4;stroke:#1f77b4;\" x=\"207.31878\" xlink:href=\"#m5abce7a094\" y=\"115.61072\"/>\n     <use style=\"fill:#1f77b4;stroke:#1f77b4;\" x=\"198.46014\" xlink:href=\"#m5abce7a094\" y=\"123.13398\"/>\n     <use style=\"fill:#1f77b4;stroke:#1f77b4;\" x=\"230.961107\" xlink:href=\"#m5abce7a094\" y=\"99.003928\"/>\n     <use style=\"fill:#1f77b4;stroke:#1f77b4;\" x=\"193.110537\" xlink:href=\"#m5abce7a094\" y=\"114.94526\"/>\n     <use style=\"fill:#1f77b4;stroke:#1f77b4;\" x=\"205.415448\" xlink:href=\"#m5abce7a094\" y=\"118.764273\"/>\n     <use style=\"fill:#1f77b4;stroke:#1f77b4;\" x=\"216.943082\" xlink:href=\"#m5abce7a094\" y=\"118.34843\"/>\n     <use style=\"fill:#1f77b4;stroke:#1f77b4;\" x=\"181.901304\" xlink:href=\"#m5abce7a094\" y=\"115.846467\"/>\n     <use style=\"fill:#1f77b4;stroke:#1f77b4;\" x=\"218.722452\" xlink:href=\"#m5abce7a094\" y=\"111.357636\"/>\n     <use style=\"fill:#1f77b4;stroke:#1f77b4;\" x=\"207.712095\" xlink:href=\"#m5abce7a094\" y=\"112.526277\"/>\n     <use style=\"fill:#1f77b4;stroke:#1f77b4;\" x=\"187.84693\" xlink:href=\"#m5abce7a094\" y=\"110.373636\"/>\n     <use style=\"fill:#1f77b4;stroke:#1f77b4;\" x=\"196.604306\" xlink:href=\"#m5abce7a094\" y=\"136.078604\"/>\n     <use style=\"fill:#1f77b4;stroke:#1f77b4;\" x=\"181.627336\" xlink:href=\"#m5abce7a094\" y=\"100.809176\"/>\n     <use style=\"fill:#1f77b4;stroke:#1f77b4;\" x=\"201.191236\" xlink:href=\"#m5abce7a094\" y=\"117.359951\"/>\n     <use style=\"fill:#1f77b4;stroke:#1f77b4;\" x=\"203.378343\" xlink:href=\"#m5abce7a094\" y=\"115.238818\"/>\n     <use style=\"fill:#1f77b4;stroke:#1f77b4;\" x=\"225.472663\" xlink:href=\"#m5abce7a094\" y=\"100.665615\"/>\n     <use style=\"fill:#1f77b4;stroke:#1f77b4;\" x=\"196.192488\" xlink:href=\"#m5abce7a094\" y=\"109.908469\"/>\n     <use style=\"fill:#1f77b4;stroke:#1f77b4;\" x=\"193.150774\" xlink:href=\"#m5abce7a094\" y=\"115.142272\"/>\n     <use style=\"fill:#1f77b4;stroke:#1f77b4;\" x=\"198.091535\" xlink:href=\"#m5abce7a094\" y=\"99.72931\"/>\n     <use style=\"fill:#1f77b4;stroke:#1f77b4;\" x=\"184.74461\" xlink:href=\"#m5abce7a094\" y=\"126.316322\"/>\n     <use style=\"fill:#1f77b4;stroke:#1f77b4;\" x=\"198.182297\" xlink:href=\"#m5abce7a094\" y=\"104.654457\"/>\n     <use style=\"fill:#1f77b4;stroke:#1f77b4;\" x=\"203.371933\" xlink:href=\"#m5abce7a094\" y=\"100.709066\"/>\n     <use style=\"fill:#1f77b4;stroke:#1f77b4;\" x=\"212.769042\" xlink:href=\"#m5abce7a094\" y=\"95.242935\"/>\n     <use style=\"fill:#1f77b4;stroke:#1f77b4;\" x=\"219.611741\" xlink:href=\"#m5abce7a094\" y=\"103.759712\"/>\n     <use style=\"fill:#1f77b4;stroke:#1f77b4;\" x=\"204.082875\" xlink:href=\"#m5abce7a094\" y=\"120.880545\"/>\n     <use style=\"fill:#1f77b4;stroke:#1f77b4;\" x=\"210.659662\" xlink:href=\"#m5abce7a094\" y=\"124.923394\"/>\n     <use style=\"fill:#1f77b4;stroke:#1f77b4;\" x=\"213.666101\" xlink:href=\"#m5abce7a094\" y=\"108.358267\"/>\n     <use style=\"fill:#1f77b4;stroke:#1f77b4;\" x=\"200.730639\" xlink:href=\"#m5abce7a094\" y=\"100.274282\"/>\n     <use style=\"fill:#1f77b4;stroke:#1f77b4;\" x=\"207.71662\" xlink:href=\"#m5abce7a094\" y=\"118.28533\"/>\n     <use style=\"fill:#1f77b4;stroke:#1f77b4;\" x=\"218.386936\" xlink:href=\"#m5abce7a094\" y=\"115.323895\"/>\n     <use style=\"fill:#1f77b4;stroke:#1f77b4;\" x=\"199.330901\" xlink:href=\"#m5abce7a094\" y=\"93.950816\"/>\n     <use style=\"fill:#1f77b4;stroke:#1f77b4;\" x=\"194.00474\" xlink:href=\"#m5abce7a094\" y=\"107.965662\"/>\n     <use style=\"fill:#1f77b4;stroke:#1f77b4;\" x=\"203.629052\" xlink:href=\"#m5abce7a094\" y=\"114.508041\"/>\n     <use style=\"fill:#1f77b4;stroke:#1f77b4;\" x=\"200.15227\" xlink:href=\"#m5abce7a094\" y=\"103.004912\"/>\n     <use style=\"fill:#1f77b4;stroke:#1f77b4;\" x=\"244.153115\" xlink:href=\"#m5abce7a094\" y=\"106.586825\"/>\n     <use style=\"fill:#1f77b4;stroke:#1f77b4;\" x=\"173.70301\" xlink:href=\"#m5abce7a094\" y=\"115.376038\"/>\n     <use style=\"fill:#1f77b4;stroke:#1f77b4;\" x=\"217.549925\" xlink:href=\"#m5abce7a094\" y=\"95.431423\"/>\n     <use style=\"fill:#1f77b4;stroke:#1f77b4;\" x=\"222.108359\" xlink:href=\"#m5abce7a094\" y=\"107.27665\"/>\n     <use style=\"fill:#1f77b4;stroke:#1f77b4;\" x=\"166.880651\" xlink:href=\"#m5abce7a094\" y=\"113.135027\"/>\n     <use style=\"fill:#1f77b4;stroke:#1f77b4;\" x=\"184.832192\" xlink:href=\"#m5abce7a094\" y=\"112.918416\"/>\n     <use style=\"fill:#1f77b4;stroke:#1f77b4;\" x=\"196.889885\" xlink:href=\"#m5abce7a094\" y=\"94.824744\"/>\n     <use style=\"fill:#1f77b4;stroke:#1f77b4;\" x=\"211.795206\" xlink:href=\"#m5abce7a094\" y=\"104.374503\"/>\n     <use style=\"fill:#1f77b4;stroke:#1f77b4;\" x=\"180.939612\" xlink:href=\"#m5abce7a094\" y=\"107.680639\"/>\n     <use style=\"fill:#1f77b4;stroke:#1f77b4;\" x=\"228.45073\" xlink:href=\"#m5abce7a094\" y=\"94.739751\"/>\n     <use style=\"fill:#1f77b4;stroke:#1f77b4;\" x=\"209.671\" xlink:href=\"#m5abce7a094\" y=\"106.662236\"/>\n     <use style=\"fill:#1f77b4;stroke:#1f77b4;\" x=\"222.931587\" xlink:href=\"#m5abce7a094\" y=\"109.370654\"/>\n     <use style=\"fill:#1f77b4;stroke:#1f77b4;\" x=\"220.494198\" xlink:href=\"#m5abce7a094\" y=\"107.592488\"/>\n     <use style=\"fill:#1f77b4;stroke:#1f77b4;\" x=\"217.225964\" xlink:href=\"#m5abce7a094\" y=\"111.654879\"/>\n     <use style=\"fill:#1f77b4;stroke:#1f77b4;\" x=\"226.107261\" xlink:href=\"#m5abce7a094\" y=\"105.36888\"/>\n     <use style=\"fill:#1f77b4;stroke:#1f77b4;\" x=\"199.740235\" xlink:href=\"#m5abce7a094\" y=\"111.796667\"/>\n     <use style=\"fill:#1f77b4;stroke:#1f77b4;\" x=\"213.488515\" xlink:href=\"#m5abce7a094\" y=\"96.025631\"/>\n     <use style=\"fill:#1f77b4;stroke:#1f77b4;\" x=\"177.840011\" xlink:href=\"#m5abce7a094\" y=\"103.401624\"/>\n     <use style=\"fill:#1f77b4;stroke:#1f77b4;\" x=\"203.069112\" xlink:href=\"#m5abce7a094\" y=\"91.772759\"/>\n     <use style=\"fill:#1f77b4;stroke:#1f77b4;\" x=\"185.6289\" xlink:href=\"#m5abce7a094\" y=\"131.964226\"/>\n     <use style=\"fill:#1f77b4;stroke:#1f77b4;\" x=\"198.252516\" xlink:href=\"#m5abce7a094\" y=\"111.527501\"/>\n     <use style=\"fill:#1f77b4;stroke:#1f77b4;\" x=\"188.763353\" xlink:href=\"#m5abce7a094\" y=\"104.356454\"/>\n     <use style=\"fill:#1f77b4;stroke:#1f77b4;\" x=\"200.110378\" xlink:href=\"#m5abce7a094\" y=\"117.611617\"/>\n     <use style=\"fill:#1f77b4;stroke:#1f77b4;\" x=\"187.141217\" xlink:href=\"#m5abce7a094\" y=\"116.065679\"/>\n     <use style=\"fill:#1f77b4;stroke:#1f77b4;\" x=\"211.856804\" xlink:href=\"#m5abce7a094\" y=\"101.253424\"/>\n     <use style=\"fill:#1f77b4;stroke:#1f77b4;\" x=\"190.857806\" xlink:href=\"#m5abce7a094\" y=\"95.813581\"/>\n     <use style=\"fill:#1f77b4;stroke:#1f77b4;\" x=\"190.607483\" xlink:href=\"#m5abce7a094\" y=\"105.446496\"/>\n     <use style=\"fill:#1f77b4;stroke:#1f77b4;\" x=\"172.482769\" xlink:href=\"#m5abce7a094\" y=\"131.544051\"/>\n     <use style=\"fill:#1f77b4;stroke:#1f77b4;\" x=\"209.345425\" xlink:href=\"#m5abce7a094\" y=\"98.664207\"/>\n     <use style=\"fill:#1f77b4;stroke:#1f77b4;\" x=\"235.56992\" xlink:href=\"#m5abce7a094\" y=\"103.618465\"/>\n     <use style=\"fill:#1f77b4;stroke:#1f77b4;\" x=\"199.032405\" xlink:href=\"#m5abce7a094\" y=\"122.001431\"/>\n     <use style=\"fill:#1f77b4;stroke:#1f77b4;\" x=\"192.58433\" xlink:href=\"#m5abce7a094\" y=\"124.140875\"/>\n     <use style=\"fill:#1f77b4;stroke:#1f77b4;\" x=\"188.135131\" xlink:href=\"#m5abce7a094\" y=\"110.032564\"/>\n     <use style=\"fill:#1f77b4;stroke:#1f77b4;\" x=\"196.750633\" xlink:href=\"#m5abce7a094\" y=\"110.029582\"/>\n     <use style=\"fill:#1f77b4;stroke:#1f77b4;\" x=\"222.391765\" xlink:href=\"#m5abce7a094\" y=\"117.01338\"/>\n     <use style=\"fill:#1f77b4;stroke:#1f77b4;\" x=\"205.639443\" xlink:href=\"#m5abce7a094\" y=\"105.930285\"/>\n     <use style=\"fill:#1f77b4;stroke:#1f77b4;\" x=\"190.423159\" xlink:href=\"#m5abce7a094\" y=\"118.906495\"/>\n     <use style=\"fill:#1f77b4;stroke:#1f77b4;\" x=\"202.150765\" xlink:href=\"#m5abce7a094\" y=\"111.083543\"/>\n     <use style=\"fill:#1f77b4;stroke:#1f77b4;\" x=\"225.880386\" xlink:href=\"#m5abce7a094\" y=\"101.760083\"/>\n     <use style=\"fill:#1f77b4;stroke:#1f77b4;\" x=\"189.622543\" xlink:href=\"#m5abce7a094\" y=\"121.700882\"/>\n     <use style=\"fill:#1f77b4;stroke:#1f77b4;\" x=\"193.068861\" xlink:href=\"#m5abce7a094\" y=\"112.010748\"/>\n     <use style=\"fill:#1f77b4;stroke:#1f77b4;\" x=\"222.085077\" xlink:href=\"#m5abce7a094\" y=\"110.869678\"/>\n     <use style=\"fill:#1f77b4;stroke:#1f77b4;\" x=\"212.212742\" xlink:href=\"#m5abce7a094\" y=\"118.03066\"/>\n     <use style=\"fill:#1f77b4;stroke:#1f77b4;\" x=\"213.374319\" xlink:href=\"#m5abce7a094\" y=\"115.621763\"/>\n     <use style=\"fill:#1f77b4;stroke:#1f77b4;\" x=\"191.420798\" xlink:href=\"#m5abce7a094\" y=\"102.307452\"/>\n     <use style=\"fill:#1f77b4;stroke:#1f77b4;\" x=\"200.086999\" xlink:href=\"#m5abce7a094\" y=\"116.835957\"/>\n     <use style=\"fill:#1f77b4;stroke:#1f77b4;\" x=\"208.20086\" xlink:href=\"#m5abce7a094\" y=\"96.481469\"/>\n     <use style=\"fill:#1f77b4;stroke:#1f77b4;\" x=\"195.510042\" xlink:href=\"#m5abce7a094\" y=\"101.21202\"/>\n     <use style=\"fill:#1f77b4;stroke:#1f77b4;\" x=\"216.225209\" xlink:href=\"#m5abce7a094\" y=\"120.291709\"/>\n     <use style=\"fill:#1f77b4;stroke:#1f77b4;\" x=\"199.387178\" xlink:href=\"#m5abce7a094\" y=\"112.165321\"/>\n     <use style=\"fill:#1f77b4;stroke:#1f77b4;\" x=\"199.262021\" xlink:href=\"#m5abce7a094\" y=\"108.514123\"/>\n     <use style=\"fill:#1f77b4;stroke:#1f77b4;\" x=\"203.984477\" xlink:href=\"#m5abce7a094\" y=\"119.105746\"/>\n     <use style=\"fill:#1f77b4;stroke:#1f77b4;\" x=\"224.544019\" xlink:href=\"#m5abce7a094\" y=\"98.556356\"/>\n     <use style=\"fill:#1f77b4;stroke:#1f77b4;\" x=\"189.275587\" xlink:href=\"#m5abce7a094\" y=\"89.961858\"/>\n     <use style=\"fill:#1f77b4;stroke:#1f77b4;\" x=\"181.811374\" xlink:href=\"#m5abce7a094\" y=\"118.52225\"/>\n     <use style=\"fill:#1f77b4;stroke:#1f77b4;\" x=\"209.134269\" xlink:href=\"#m5abce7a094\" y=\"91.55892\"/>\n     <use style=\"fill:#1f77b4;stroke:#1f77b4;\" x=\"191.044341\" xlink:href=\"#m5abce7a094\" y=\"117.546604\"/>\n     <use style=\"fill:#1f77b4;stroke:#1f77b4;\" x=\"168.92651\" xlink:href=\"#m5abce7a094\" y=\"112.520084\"/>\n     <use style=\"fill:#1f77b4;stroke:#1f77b4;\" x=\"192.792386\" xlink:href=\"#m5abce7a094\" y=\"106.954487\"/>\n     <use style=\"fill:#1f77b4;stroke:#1f77b4;\" x=\"235.768215\" xlink:href=\"#m5abce7a094\" y=\"104.309499\"/>\n     <use style=\"fill:#1f77b4;stroke:#1f77b4;\" x=\"205.689922\" xlink:href=\"#m5abce7a094\" y=\"120.753954\"/>\n     <use style=\"fill:#1f77b4;stroke:#1f77b4;\" x=\"218.989221\" xlink:href=\"#m5abce7a094\" y=\"102.95157\"/>\n     <use style=\"fill:#1f77b4;stroke:#1f77b4;\" x=\"215.400843\" xlink:href=\"#m5abce7a094\" y=\"104.157043\"/>\n     <use style=\"fill:#1f77b4;stroke:#1f77b4;\" x=\"192.141866\" xlink:href=\"#m5abce7a094\" y=\"115.122545\"/>\n     <use style=\"fill:#1f77b4;stroke:#1f77b4;\" x=\"187.552687\" xlink:href=\"#m5abce7a094\" y=\"111.796758\"/>\n     <use style=\"fill:#1f77b4;stroke:#1f77b4;\" x=\"199.447464\" xlink:href=\"#m5abce7a094\" y=\"116.205613\"/>\n     <use style=\"fill:#1f77b4;stroke:#1f77b4;\" x=\"222.336884\" xlink:href=\"#m5abce7a094\" y=\"103.759403\"/>\n     <use style=\"fill:#1f77b4;stroke:#1f77b4;\" x=\"206.588394\" xlink:href=\"#m5abce7a094\" y=\"107.931663\"/>\n     <use style=\"fill:#1f77b4;stroke:#1f77b4;\" x=\"200.175627\" xlink:href=\"#m5abce7a094\" y=\"102.763539\"/>\n     <use style=\"fill:#1f77b4;stroke:#1f77b4;\" x=\"205.131719\" xlink:href=\"#m5abce7a094\" y=\"109.17891\"/>\n     <use style=\"fill:#1f77b4;stroke:#1f77b4;\" x=\"212.074038\" xlink:href=\"#m5abce7a094\" y=\"110.121895\"/>\n     <use style=\"fill:#1f77b4;stroke:#1f77b4;\" x=\"204.736823\" xlink:href=\"#m5abce7a094\" y=\"98.659903\"/>\n     <use style=\"fill:#1f77b4;stroke:#1f77b4;\" x=\"212.561683\" xlink:href=\"#m5abce7a094\" y=\"116.005333\"/>\n     <use style=\"fill:#1f77b4;stroke:#1f77b4;\" x=\"211.677711\" xlink:href=\"#m5abce7a094\" y=\"116.265584\"/>\n     <use style=\"fill:#1f77b4;stroke:#1f77b4;\" x=\"208.028226\" xlink:href=\"#m5abce7a094\" y=\"106.135892\"/>\n     <use style=\"fill:#1f77b4;stroke:#1f77b4;\" x=\"212.252052\" xlink:href=\"#m5abce7a094\" y=\"103.980843\"/>\n     <use style=\"fill:#1f77b4;stroke:#1f77b4;\" x=\"206.79184\" xlink:href=\"#m5abce7a094\" y=\"100.322804\"/>\n     <use style=\"fill:#1f77b4;stroke:#1f77b4;\" x=\"171.018534\" xlink:href=\"#m5abce7a094\" y=\"124.917762\"/>\n     <use style=\"fill:#1f77b4;stroke:#1f77b4;\" x=\"188.03229\" xlink:href=\"#m5abce7a094\" y=\"163.984328\"/>\n     <use style=\"fill:#1f77b4;stroke:#1f77b4;\" x=\"329.639163\" xlink:href=\"#m5abce7a094\" y=\"215.021118\"/>\n     <use style=\"fill:#1f77b4;stroke:#1f77b4;\" x=\"178.163464\" xlink:href=\"#m5abce7a094\" y=\"114.024195\"/>\n     <use style=\"fill:#1f77b4;stroke:#1f77b4;\" x=\"294.522279\" xlink:href=\"#m5abce7a094\" y=\"153.587238\"/>\n     <use style=\"fill:#1f77b4;stroke:#1f77b4;\" x=\"356.047443\" xlink:href=\"#m5abce7a094\" y=\"96.044734\"/>\n     <use style=\"fill:#1f77b4;stroke:#1f77b4;\" x=\"272.8848\" xlink:href=\"#m5abce7a094\" y=\"79.629796\"/>\n     <use style=\"fill:#1f77b4;stroke:#1f77b4;\" x=\"51.683807\" xlink:href=\"#m5abce7a094\" y=\"17.348391\"/>\n    </g>\n   </g>\n   <g id=\"matplotlib.axis_1\">\n    <g id=\"xtick_1\">\n     <g id=\"line2d_1\">\n      <defs>\n       <path d=\"M 0 0 \nL 0 3.5 \n\" id=\"m1287b76aba\" style=\"stroke:#000000;stroke-width:0.8;\"/>\n      </defs>\n      <g>\n       <use style=\"stroke:#000000;stroke-width:0.8;\" x=\"55.734736\" xlink:href=\"#m1287b76aba\" y=\"224.904755\"/>\n      </g>\n     </g>\n     <g id=\"text_1\">\n      <!-- 5.0 -->\n      <g transform=\"translate(47.783174 239.503192)scale(0.1 -0.1)\">\n       <defs>\n        <path d=\"M 10.796875 72.90625 \nL 49.515625 72.90625 \nL 49.515625 64.59375 \nL 19.828125 64.59375 \nL 19.828125 46.734375 \nQ 21.96875 47.46875 24.109375 47.828125 \nQ 26.265625 48.1875 28.421875 48.1875 \nQ 40.625 48.1875 47.75 41.5 \nQ 54.890625 34.8125 54.890625 23.390625 \nQ 54.890625 11.625 47.5625 5.09375 \nQ 40.234375 -1.421875 26.90625 -1.421875 \nQ 22.3125 -1.421875 17.546875 -0.640625 \nQ 12.796875 0.140625 7.71875 1.703125 \nL 7.71875 11.625 \nQ 12.109375 9.234375 16.796875 8.0625 \nQ 21.484375 6.890625 26.703125 6.890625 \nQ 35.15625 6.890625 40.078125 11.328125 \nQ 45.015625 15.765625 45.015625 23.390625 \nQ 45.015625 31 40.078125 35.4375 \nQ 35.15625 39.890625 26.703125 39.890625 \nQ 22.75 39.890625 18.8125 39.015625 \nQ 14.890625 38.140625 10.796875 36.28125 \nz\n\" id=\"DejaVuSans-53\"/>\n        <path d=\"M 10.6875 12.40625 \nL 21 12.40625 \nL 21 0 \nL 10.6875 0 \nz\n\" id=\"DejaVuSans-46\"/>\n        <path d=\"M 31.78125 66.40625 \nQ 24.171875 66.40625 20.328125 58.90625 \nQ 16.5 51.421875 16.5 36.375 \nQ 16.5 21.390625 20.328125 13.890625 \nQ 24.171875 6.390625 31.78125 6.390625 \nQ 39.453125 6.390625 43.28125 13.890625 \nQ 47.125 21.390625 47.125 36.375 \nQ 47.125 51.421875 43.28125 58.90625 \nQ 39.453125 66.40625 31.78125 66.40625 \nz\nM 31.78125 74.21875 \nQ 44.046875 74.21875 50.515625 64.515625 \nQ 56.984375 54.828125 56.984375 36.375 \nQ 56.984375 17.96875 50.515625 8.265625 \nQ 44.046875 -1.421875 31.78125 -1.421875 \nQ 19.53125 -1.421875 13.0625 8.265625 \nQ 6.59375 17.96875 6.59375 36.375 \nQ 6.59375 54.828125 13.0625 64.515625 \nQ 19.53125 74.21875 31.78125 74.21875 \nz\n\" id=\"DejaVuSans-48\"/>\n       </defs>\n       <use xlink:href=\"#DejaVuSans-53\"/>\n       <use x=\"63.623047\" xlink:href=\"#DejaVuSans-46\"/>\n       <use x=\"95.410156\" xlink:href=\"#DejaVuSans-48\"/>\n      </g>\n     </g>\n    </g>\n    <g id=\"xtick_2\">\n     <g id=\"line2d_2\">\n      <g>\n       <use style=\"stroke:#000000;stroke-width:0.8;\" x=\"96.671879\" xlink:href=\"#m1287b76aba\" y=\"224.904755\"/>\n      </g>\n     </g>\n     <g id=\"text_2\">\n      <!-- 7.5 -->\n      <g transform=\"translate(88.720316 239.503192)scale(0.1 -0.1)\">\n       <defs>\n        <path d=\"M 8.203125 72.90625 \nL 55.078125 72.90625 \nL 55.078125 68.703125 \nL 28.609375 0 \nL 18.3125 0 \nL 43.21875 64.59375 \nL 8.203125 64.59375 \nz\n\" id=\"DejaVuSans-55\"/>\n       </defs>\n       <use xlink:href=\"#DejaVuSans-55\"/>\n       <use x=\"63.623047\" xlink:href=\"#DejaVuSans-46\"/>\n       <use x=\"95.410156\" xlink:href=\"#DejaVuSans-53\"/>\n      </g>\n     </g>\n    </g>\n    <g id=\"xtick_3\">\n     <g id=\"line2d_3\">\n      <g>\n       <use style=\"stroke:#000000;stroke-width:0.8;\" x=\"137.609021\" xlink:href=\"#m1287b76aba\" y=\"224.904755\"/>\n      </g>\n     </g>\n     <g id=\"text_3\">\n      <!-- 10.0 -->\n      <g transform=\"translate(126.476209 239.503192)scale(0.1 -0.1)\">\n       <defs>\n        <path d=\"M 12.40625 8.296875 \nL 28.515625 8.296875 \nL 28.515625 63.921875 \nL 10.984375 60.40625 \nL 10.984375 69.390625 \nL 28.421875 72.90625 \nL 38.28125 72.90625 \nL 38.28125 8.296875 \nL 54.390625 8.296875 \nL 54.390625 0 \nL 12.40625 0 \nz\n\" id=\"DejaVuSans-49\"/>\n       </defs>\n       <use xlink:href=\"#DejaVuSans-49\"/>\n       <use x=\"63.623047\" xlink:href=\"#DejaVuSans-48\"/>\n       <use x=\"127.246094\" xlink:href=\"#DejaVuSans-46\"/>\n       <use x=\"159.033203\" xlink:href=\"#DejaVuSans-48\"/>\n      </g>\n     </g>\n    </g>\n    <g id=\"xtick_4\">\n     <g id=\"line2d_4\">\n      <g>\n       <use style=\"stroke:#000000;stroke-width:0.8;\" x=\"178.546163\" xlink:href=\"#m1287b76aba\" y=\"224.904755\"/>\n      </g>\n     </g>\n     <g id=\"text_4\">\n      <!-- 12.5 -->\n      <g transform=\"translate(167.413351 239.503192)scale(0.1 -0.1)\">\n       <defs>\n        <path d=\"M 19.1875 8.296875 \nL 53.609375 8.296875 \nL 53.609375 0 \nL 7.328125 0 \nL 7.328125 8.296875 \nQ 12.9375 14.109375 22.625 23.890625 \nQ 32.328125 33.6875 34.8125 36.53125 \nQ 39.546875 41.84375 41.421875 45.53125 \nQ 43.3125 49.21875 43.3125 52.78125 \nQ 43.3125 58.59375 39.234375 62.25 \nQ 35.15625 65.921875 28.609375 65.921875 \nQ 23.96875 65.921875 18.8125 64.3125 \nQ 13.671875 62.703125 7.8125 59.421875 \nL 7.8125 69.390625 \nQ 13.765625 71.78125 18.9375 73 \nQ 24.125 74.21875 28.421875 74.21875 \nQ 39.75 74.21875 46.484375 68.546875 \nQ 53.21875 62.890625 53.21875 53.421875 \nQ 53.21875 48.921875 51.53125 44.890625 \nQ 49.859375 40.875 45.40625 35.40625 \nQ 44.1875 33.984375 37.640625 27.21875 \nQ 31.109375 20.453125 19.1875 8.296875 \nz\n\" id=\"DejaVuSans-50\"/>\n       </defs>\n       <use xlink:href=\"#DejaVuSans-49\"/>\n       <use x=\"63.623047\" xlink:href=\"#DejaVuSans-50\"/>\n       <use x=\"127.246094\" xlink:href=\"#DejaVuSans-46\"/>\n       <use x=\"159.033203\" xlink:href=\"#DejaVuSans-53\"/>\n      </g>\n     </g>\n    </g>\n    <g id=\"xtick_5\">\n     <g id=\"line2d_5\">\n      <g>\n       <use style=\"stroke:#000000;stroke-width:0.8;\" x=\"219.483306\" xlink:href=\"#m1287b76aba\" y=\"224.904755\"/>\n      </g>\n     </g>\n     <g id=\"text_5\">\n      <!-- 15.0 -->\n      <g transform=\"translate(208.350493 239.503192)scale(0.1 -0.1)\">\n       <use xlink:href=\"#DejaVuSans-49\"/>\n       <use x=\"63.623047\" xlink:href=\"#DejaVuSans-53\"/>\n       <use x=\"127.246094\" xlink:href=\"#DejaVuSans-46\"/>\n       <use x=\"159.033203\" xlink:href=\"#DejaVuSans-48\"/>\n      </g>\n     </g>\n    </g>\n    <g id=\"xtick_6\">\n     <g id=\"line2d_6\">\n      <g>\n       <use style=\"stroke:#000000;stroke-width:0.8;\" x=\"260.420448\" xlink:href=\"#m1287b76aba\" y=\"224.904755\"/>\n      </g>\n     </g>\n     <g id=\"text_6\">\n      <!-- 17.5 -->\n      <g transform=\"translate(249.287635 239.503192)scale(0.1 -0.1)\">\n       <use xlink:href=\"#DejaVuSans-49\"/>\n       <use x=\"63.623047\" xlink:href=\"#DejaVuSans-55\"/>\n       <use x=\"127.246094\" xlink:href=\"#DejaVuSans-46\"/>\n       <use x=\"159.033203\" xlink:href=\"#DejaVuSans-53\"/>\n      </g>\n     </g>\n    </g>\n    <g id=\"xtick_7\">\n     <g id=\"line2d_7\">\n      <g>\n       <use style=\"stroke:#000000;stroke-width:0.8;\" x=\"301.35759\" xlink:href=\"#m1287b76aba\" y=\"224.904755\"/>\n      </g>\n     </g>\n     <g id=\"text_7\">\n      <!-- 20.0 -->\n      <g transform=\"translate(290.224778 239.503192)scale(0.1 -0.1)\">\n       <use xlink:href=\"#DejaVuSans-50\"/>\n       <use x=\"63.623047\" xlink:href=\"#DejaVuSans-48\"/>\n       <use x=\"127.246094\" xlink:href=\"#DejaVuSans-46\"/>\n       <use x=\"159.033203\" xlink:href=\"#DejaVuSans-48\"/>\n      </g>\n     </g>\n    </g>\n    <g id=\"xtick_8\">\n     <g id=\"line2d_8\">\n      <g>\n       <use style=\"stroke:#000000;stroke-width:0.8;\" x=\"342.294733\" xlink:href=\"#m1287b76aba\" y=\"224.904755\"/>\n      </g>\n     </g>\n     <g id=\"text_8\">\n      <!-- 22.5 -->\n      <g transform=\"translate(331.16192 239.503192)scale(0.1 -0.1)\">\n       <use xlink:href=\"#DejaVuSans-50\"/>\n       <use x=\"63.623047\" xlink:href=\"#DejaVuSans-50\"/>\n       <use x=\"127.246094\" xlink:href=\"#DejaVuSans-46\"/>\n       <use x=\"159.033203\" xlink:href=\"#DejaVuSans-53\"/>\n      </g>\n     </g>\n    </g>\n   </g>\n   <g id=\"matplotlib.axis_2\">\n    <g id=\"ytick_1\">\n     <g id=\"line2d_9\">\n      <defs>\n       <path d=\"M 0 0 \nL -3.5 0 \n\" id=\"m572f10f9df\" style=\"stroke:#000000;stroke-width:0.8;\"/>\n      </defs>\n      <g>\n       <use style=\"stroke:#000000;stroke-width:0.8;\" x=\"36.465625\" xlink:href=\"#m572f10f9df\" y=\"206.480841\"/>\n      </g>\n     </g>\n     <g id=\"text_9\">\n      <!-- 5.0 -->\n      <g transform=\"translate(13.5625 210.28006)scale(0.1 -0.1)\">\n       <use xlink:href=\"#DejaVuSans-53\"/>\n       <use x=\"63.623047\" xlink:href=\"#DejaVuSans-46\"/>\n       <use x=\"95.410156\" xlink:href=\"#DejaVuSans-48\"/>\n      </g>\n     </g>\n    </g>\n    <g id=\"ytick_2\">\n     <g id=\"line2d_10\">\n      <g>\n       <use style=\"stroke:#000000;stroke-width:0.8;\" x=\"36.465625\" xlink:href=\"#m572f10f9df\" y=\"182.045638\"/>\n      </g>\n     </g>\n     <g id=\"text_10\">\n      <!-- 7.5 -->\n      <g transform=\"translate(13.5625 185.844857)scale(0.1 -0.1)\">\n       <use xlink:href=\"#DejaVuSans-55\"/>\n       <use x=\"63.623047\" xlink:href=\"#DejaVuSans-46\"/>\n       <use x=\"95.410156\" xlink:href=\"#DejaVuSans-53\"/>\n      </g>\n     </g>\n    </g>\n    <g id=\"ytick_3\">\n     <g id=\"line2d_11\">\n      <g>\n       <use style=\"stroke:#000000;stroke-width:0.8;\" x=\"36.465625\" xlink:href=\"#m572f10f9df\" y=\"157.610436\"/>\n      </g>\n     </g>\n     <g id=\"text_11\">\n      <!-- 10.0 -->\n      <g transform=\"translate(7.2 161.409654)scale(0.1 -0.1)\">\n       <use xlink:href=\"#DejaVuSans-49\"/>\n       <use x=\"63.623047\" xlink:href=\"#DejaVuSans-48\"/>\n       <use x=\"127.246094\" xlink:href=\"#DejaVuSans-46\"/>\n       <use x=\"159.033203\" xlink:href=\"#DejaVuSans-48\"/>\n      </g>\n     </g>\n    </g>\n    <g id=\"ytick_4\">\n     <g id=\"line2d_12\">\n      <g>\n       <use style=\"stroke:#000000;stroke-width:0.8;\" x=\"36.465625\" xlink:href=\"#m572f10f9df\" y=\"133.175233\"/>\n      </g>\n     </g>\n     <g id=\"text_12\">\n      <!-- 12.5 -->\n      <g transform=\"translate(7.2 136.974452)scale(0.1 -0.1)\">\n       <use xlink:href=\"#DejaVuSans-49\"/>\n       <use x=\"63.623047\" xlink:href=\"#DejaVuSans-50\"/>\n       <use x=\"127.246094\" xlink:href=\"#DejaVuSans-46\"/>\n       <use x=\"159.033203\" xlink:href=\"#DejaVuSans-53\"/>\n      </g>\n     </g>\n    </g>\n    <g id=\"ytick_5\">\n     <g id=\"line2d_13\">\n      <g>\n       <use style=\"stroke:#000000;stroke-width:0.8;\" x=\"36.465625\" xlink:href=\"#m572f10f9df\" y=\"108.74003\"/>\n      </g>\n     </g>\n     <g id=\"text_13\">\n      <!-- 15.0 -->\n      <g transform=\"translate(7.2 112.539249)scale(0.1 -0.1)\">\n       <use xlink:href=\"#DejaVuSans-49\"/>\n       <use x=\"63.623047\" xlink:href=\"#DejaVuSans-53\"/>\n       <use x=\"127.246094\" xlink:href=\"#DejaVuSans-46\"/>\n       <use x=\"159.033203\" xlink:href=\"#DejaVuSans-48\"/>\n      </g>\n     </g>\n    </g>\n    <g id=\"ytick_6\">\n     <g id=\"line2d_14\">\n      <g>\n       <use style=\"stroke:#000000;stroke-width:0.8;\" x=\"36.465625\" xlink:href=\"#m572f10f9df\" y=\"84.304827\"/>\n      </g>\n     </g>\n     <g id=\"text_14\">\n      <!-- 17.5 -->\n      <g transform=\"translate(7.2 88.104046)scale(0.1 -0.1)\">\n       <use xlink:href=\"#DejaVuSans-49\"/>\n       <use x=\"63.623047\" xlink:href=\"#DejaVuSans-55\"/>\n       <use x=\"127.246094\" xlink:href=\"#DejaVuSans-46\"/>\n       <use x=\"159.033203\" xlink:href=\"#DejaVuSans-53\"/>\n      </g>\n     </g>\n    </g>\n    <g id=\"ytick_7\">\n     <g id=\"line2d_15\">\n      <g>\n       <use style=\"stroke:#000000;stroke-width:0.8;\" x=\"36.465625\" xlink:href=\"#m572f10f9df\" y=\"59.869624\"/>\n      </g>\n     </g>\n     <g id=\"text_15\">\n      <!-- 20.0 -->\n      <g transform=\"translate(7.2 63.668843)scale(0.1 -0.1)\">\n       <use xlink:href=\"#DejaVuSans-50\"/>\n       <use x=\"63.623047\" xlink:href=\"#DejaVuSans-48\"/>\n       <use x=\"127.246094\" xlink:href=\"#DejaVuSans-46\"/>\n       <use x=\"159.033203\" xlink:href=\"#DejaVuSans-48\"/>\n      </g>\n     </g>\n    </g>\n    <g id=\"ytick_8\">\n     <g id=\"line2d_16\">\n      <g>\n       <use style=\"stroke:#000000;stroke-width:0.8;\" x=\"36.465625\" xlink:href=\"#m572f10f9df\" y=\"35.434422\"/>\n      </g>\n     </g>\n     <g id=\"text_16\">\n      <!-- 22.5 -->\n      <g transform=\"translate(7.2 39.23364)scale(0.1 -0.1)\">\n       <use xlink:href=\"#DejaVuSans-50\"/>\n       <use x=\"63.623047\" xlink:href=\"#DejaVuSans-50\"/>\n       <use x=\"127.246094\" xlink:href=\"#DejaVuSans-46\"/>\n       <use x=\"159.033203\" xlink:href=\"#DejaVuSans-53\"/>\n      </g>\n     </g>\n    </g>\n    <g id=\"ytick_9\">\n     <g id=\"line2d_17\">\n      <g>\n       <use style=\"stroke:#000000;stroke-width:0.8;\" x=\"36.465625\" xlink:href=\"#m572f10f9df\" y=\"10.999219\"/>\n      </g>\n     </g>\n     <g id=\"text_17\">\n      <!-- 25.0 -->\n      <g transform=\"translate(7.2 14.798437)scale(0.1 -0.1)\">\n       <use xlink:href=\"#DejaVuSans-50\"/>\n       <use x=\"63.623047\" xlink:href=\"#DejaVuSans-53\"/>\n       <use x=\"127.246094\" xlink:href=\"#DejaVuSans-46\"/>\n       <use x=\"159.033203\" xlink:href=\"#DejaVuSans-48\"/>\n      </g>\n     </g>\n    </g>\n   </g>\n   <g id=\"patch_3\">\n    <path d=\"M 36.465625 224.904755 \nL 36.465625 7.464755 \n\" style=\"fill:none;stroke:#000000;stroke-linecap:square;stroke-linejoin:miter;stroke-width:0.8;\"/>\n   </g>\n   <g id=\"patch_4\">\n    <path d=\"M 371.265625 224.904755 \nL 371.265625 7.464755 \n\" style=\"fill:none;stroke:#000000;stroke-linecap:square;stroke-linejoin:miter;stroke-width:0.8;\"/>\n   </g>\n   <g id=\"patch_5\">\n    <path d=\"M 36.465625 224.904755 \nL 371.265625 224.904755 \n\" style=\"fill:none;stroke:#000000;stroke-linecap:square;stroke-linejoin:miter;stroke-width:0.8;\"/>\n   </g>\n   <g id=\"patch_6\">\n    <path d=\"M 36.465625 7.464755 \nL 371.265625 7.464755 \n\" style=\"fill:none;stroke:#000000;stroke-linecap:square;stroke-linejoin:miter;stroke-width:0.8;\"/>\n   </g>\n  </g>\n </g>\n <defs>\n  <clipPath id=\"p1d5cb6a212\">\n   <rect height=\"217.44\" width=\"334.8\" x=\"36.465625\" y=\"7.464755\"/>\n  </clipPath>\n </defs>\n</svg>\n",
      "image/png": "[encoded data removed]"
     },
     "metadata": {
      "needs_background": "light"
     }
    }
   ],
   "source": [
    "plt.figure()\n",
    "plt.scatter(df[0], df[1])\n",
    "plt.show()"
   ]
  },
  {
   "cell_type": "code",
   "execution_count": 5,
   "metadata": {},
   "outputs": [],
   "source": [
    "m = len(df)"
   ]
  },
  {
   "cell_type": "code",
   "execution_count": 6,
   "metadata": {},
   "outputs": [
    {
     "output_type": "execute_result",
     "data": {
      "text/plain": [
       "0    14.112226\n",
       "1    14.997711\n",
       "dtype: float64"
      ]
     },
     "metadata": {},
     "execution_count": 6
    }
   ],
   "source": [
    "s = np.sum(df, axis=0)\n",
    "mu = s/m\n",
    "mu"
   ]
  },
  {
   "cell_type": "code",
   "execution_count": 7,
   "metadata": {},
   "outputs": [
    {
     "output_type": "execute_result",
     "data": {
      "text/plain": [
       "0    1.832631\n",
       "1    1.709745\n",
       "dtype: float64"
      ]
     },
     "metadata": {},
     "execution_count": 7
    }
   ],
   "source": [
    "vr = np.sum((df - mu)**2, axis=0)\n",
    "variance = vr/m\n",
    "variance"
   ]
  },
  {
   "cell_type": "code",
   "execution_count": 8,
   "metadata": {},
   "outputs": [
    {
     "output_type": "execute_result",
     "data": {
      "text/plain": [
       "array([[1.83263141, 0.        ],\n",
       "       [0.        , 1.70974533]])"
      ]
     },
     "metadata": {},
     "execution_count": 8
    }
   ],
   "source": [
    "var_dia = np.diag(variance)\n",
    "var_dia"
   ]
  },
  {
   "cell_type": "code",
   "execution_count": 9,
   "metadata": {},
   "outputs": [
    {
     "output_type": "execute_result",
     "data": {
      "text/plain": [
       "0      6.470829e-02\n",
       "1      5.030417e-02\n",
       "2      7.245035e-02\n",
       "3      5.031575e-02\n",
       "4      6.368497e-02\n",
       "           ...     \n",
       "302    3.981340e-02\n",
       "303    5.455673e-08\n",
       "304    4.461721e-12\n",
       "305    6.107184e-05\n",
       "306    2.912867e-23\n",
       "Length: 307, dtype: float64"
      ]
     },
     "metadata": {},
     "execution_count": 9
    }
   ],
   "source": [
    "k = len(mu)\n",
    "X = df - mu\n",
    "p = 1/((2*np.pi)**(k/2)*(np.linalg.det(var_dia)**0.5))* np.exp(-0.5* np.sum(X @ np.linalg.pinv(var_dia) * X,axis=1))\n",
    "p"
   ]
  },
  {
   "cell_type": "code",
   "execution_count": 10,
   "metadata": {},
   "outputs": [],
   "source": [
    "def probability(df):\n",
    "    s = np.sum(df, axis=0)\n",
    "    m = len(df)\n",
    "    mu = s/m\n",
    "    vr = np.sum((df - mu)**2, axis=0)\n",
    "    variance = vr/m\n",
    "    var_dia = np.diag(variance)\n",
    "    k = len(mu)\n",
    "    X = df - mu\n",
    "    p = 1/((2*np.pi)**(k/2)*(np.linalg.det(var_dia)**0.5))* np.exp(-0.5* np.sum(X @ np.linalg.pinv(var_dia) * X,axis=1))\n",
    "    return p"
   ]
  },
  {
   "cell_type": "code",
   "execution_count": 11,
   "metadata": {},
   "outputs": [
    {
     "output_type": "execute_result",
     "data": {
      "text/plain": [
       "           0          1\n",
       "0  15.790260  14.921024\n",
       "1  13.639619  15.329955\n",
       "2  14.865899  16.473865\n",
       "3  13.584676  13.989306\n",
       "4  13.464042  15.635330"
      ],
      "text/html": "<div>\n<style scoped>\n    .dataframe tbody tr th:only-of-type {\n        vertical-align: middle;\n    }\n\n    .dataframe tbody tr th {\n        vertical-align: top;\n    }\n\n    .dataframe thead th {\n        text-align: right;\n    }\n</style>\n<table border=\"1\" class=\"dataframe\">\n  <thead>\n    <tr style=\"text-align: right;\">\n      <th></th>\n      <th>0</th>\n      <th>1</th>\n    </tr>\n  </thead>\n  <tbody>\n    <tr>\n      <th>0</th>\n      <td>15.790260</td>\n      <td>14.921024</td>\n    </tr>\n    <tr>\n      <th>1</th>\n      <td>13.639619</td>\n      <td>15.329955</td>\n    </tr>\n    <tr>\n      <th>2</th>\n      <td>14.865899</td>\n      <td>16.473865</td>\n    </tr>\n    <tr>\n      <th>3</th>\n      <td>13.584676</td>\n      <td>13.989306</td>\n    </tr>\n    <tr>\n      <th>4</th>\n      <td>13.464042</td>\n      <td>15.635330</td>\n    </tr>\n  </tbody>\n</table>\n</div>"
     },
     "metadata": {},
     "execution_count": 11
    }
   ],
   "source": [
    "cvx = pd.read_excel('/Users/gauravsatija/Desktop/CPSC473-Data-Mining/Data_Mining_Project/ex8data1.xlsx', sheet_name='Xval', header=None)\n",
    "cvx.head()"
   ]
  },
  {
   "cell_type": "code",
   "execution_count": 12,
   "metadata": {},
   "outputs": [
    {
     "output_type": "execute_result",
     "data": {
      "text/plain": [
       "   0\n",
       "0  0\n",
       "1  0\n",
       "2  0\n",
       "3  0\n",
       "4  0"
      ],
      "text/html": "<div>\n<style scoped>\n    .dataframe tbody tr th:only-of-type {\n        vertical-align: middle;\n    }\n\n    .dataframe tbody tr th {\n        vertical-align: top;\n    }\n\n    .dataframe thead th {\n        text-align: right;\n    }\n</style>\n<table border=\"1\" class=\"dataframe\">\n  <thead>\n    <tr style=\"text-align: right;\">\n      <th></th>\n      <th>0</th>\n    </tr>\n  </thead>\n  <tbody>\n    <tr>\n      <th>0</th>\n      <td>0</td>\n    </tr>\n    <tr>\n      <th>1</th>\n      <td>0</td>\n    </tr>\n    <tr>\n      <th>2</th>\n      <td>0</td>\n    </tr>\n    <tr>\n      <th>3</th>\n      <td>0</td>\n    </tr>\n    <tr>\n      <th>4</th>\n      <td>0</td>\n    </tr>\n  </tbody>\n</table>\n</div>"
     },
     "metadata": {},
     "execution_count": 12
    }
   ],
   "source": [
    "cvy = pd.read_excel('/Users/gauravsatija/Desktop/CPSC473-Data-Mining/Data_Mining_Project/ex8data1.xlsx', sheet_name='y', header=None)\n",
    "cvy.head()"
   ]
  },
  {
   "cell_type": "code",
   "execution_count": 13,
   "metadata": {},
   "outputs": [],
   "source": [
    "p1 = probability(cvx)"
   ]
  },
  {
   "cell_type": "code",
   "execution_count": 14,
   "metadata": {},
   "outputs": [
    {
     "output_type": "stream",
     "name": "stdout",
     "text": [
      "[[0]\n [0]\n [0]\n [0]\n [0]\n [0]\n [0]\n [0]\n [0]\n [1]\n [0]\n [0]\n [0]\n [0]\n [0]\n [0]\n [0]\n [0]\n [0]\n [0]\n [0]\n [0]\n [0]\n [0]\n [0]\n [0]\n [0]\n [0]\n [0]\n [0]\n [0]\n [0]\n [0]\n [0]\n [0]\n [0]\n [0]\n [0]\n [0]\n [0]\n [0]\n [0]\n [0]\n [0]\n [0]\n [0]\n [0]\n [0]\n [0]\n [1]\n [0]\n [0]\n [0]\n [0]\n [0]\n [0]\n [0]\n [0]\n [0]\n [0]\n [0]\n [0]\n [0]\n [0]\n [0]\n [0]\n [0]\n [0]\n [0]\n [0]\n [0]\n [0]\n [0]\n [0]\n [0]\n [0]\n [0]\n [0]\n [0]\n [0]\n [0]\n [0]\n [0]\n [0]\n [0]\n [0]\n [0]\n [0]\n [0]\n [0]\n [0]\n [0]\n [0]\n [0]\n [0]\n [0]\n [0]\n [0]\n [0]\n [0]\n [0]\n [0]\n [0]\n [0]\n [0]\n [0]\n [0]\n [0]\n [0]\n [0]\n [0]\n [0]\n [0]\n [0]\n [0]\n [0]\n [0]\n [0]\n [0]\n [0]\n [0]\n [0]\n [0]\n [0]\n [0]\n [0]\n [0]\n [0]\n [0]\n [0]\n [0]\n [0]\n [0]\n [0]\n [0]\n [0]\n [0]\n [0]\n [0]\n [0]\n [0]\n [0]\n [0]\n [0]\n [0]\n [0]\n [0]\n [0]\n [0]\n [0]\n [0]\n [0]\n [0]\n [0]\n [0]\n [0]\n [0]\n [0]\n [0]\n [0]\n [0]\n [0]\n [0]\n [0]\n [0]\n [0]\n [0]\n [0]\n [0]\n [0]\n [0]\n [0]\n [0]\n [0]\n [0]\n [0]\n [0]\n [0]\n [0]\n [0]\n [0]\n [0]\n [0]\n [0]\n [0]\n [0]\n [0]\n [0]\n [0]\n [0]\n [0]\n [0]\n [0]\n [0]\n [0]\n [0]\n [0]\n [0]\n [0]\n [0]\n [0]\n [0]\n [0]\n [0]\n [0]\n [0]\n [0]\n [0]\n [0]\n [0]\n [0]\n [0]\n [0]\n [0]\n [0]\n [0]\n [0]\n [0]\n [0]\n [0]\n [0]\n [0]\n [0]\n [0]\n [0]\n [0]\n [0]\n [0]\n [0]\n [0]\n [0]\n [0]\n [0]\n [0]\n [0]\n [0]\n [0]\n [0]\n [0]\n [0]\n [0]\n [0]\n [0]\n [0]\n [0]\n [0]\n [0]\n [0]\n [0]\n [0]\n [0]\n [0]\n [0]\n [0]\n [0]\n [0]\n [0]\n [0]\n [0]\n [0]\n [0]\n [0]\n [0]\n [0]\n [0]\n [0]\n [0]\n [0]\n [0]\n [0]\n [0]\n [0]\n [0]\n [0]\n [0]\n [0]\n [0]\n [0]\n [0]\n [0]\n [0]\n [0]\n [0]\n [0]\n [0]\n [0]\n [0]\n [0]\n [0]\n [0]\n [0]\n [0]\n [0]\n [0]\n [0]\n [0]\n [0]\n [0]\n [0]\n [0]\n [1]\n [1]\n [1]\n [1]\n [1]\n [1]\n [1]]\n"
     ]
    }
   ],
   "source": [
    "y = np.array(cvy)\n",
    "print(y)"
   ]
  },
  {
   "cell_type": "code",
   "execution_count": 15,
   "metadata": {},
   "outputs": [
    {
     "output_type": "execute_result",
     "data": {
      "text/plain": [
       "count    3.070000e+02\n",
       "mean     5.905331e-02\n",
       "std      2.324461e-02\n",
       "min      1.181209e-23\n",
       "25%      4.361075e-02\n",
       "50%      6.510144e-02\n",
       "75%      7.849532e-02\n",
       "max      8.986095e-02\n",
       "dtype: float64"
      ]
     },
     "metadata": {},
     "execution_count": 15
    }
   ],
   "source": [
    "p.describe()"
   ]
  },
  {
   "cell_type": "code",
   "execution_count": 16,
   "metadata": {},
   "outputs": [],
   "source": [
    "def tpfpfn(ep, p):\n",
    "    tp, fp, fn = 0, 0, 0\n",
    "    for i in range(len(y)):\n",
    "        if p[i] <= ep and y[i][0] == 1:\n",
    "            tp += 1\n",
    "        elif p[i] <= ep and y[i][0] == 0:\n",
    "            fp += 1\n",
    "        elif p[i] > ep and y[i][0] == 1:\n",
    "            fn += 1\n",
    "    return tp, fp, fn\n"
   ]
  },
  {
   "cell_type": "code",
   "execution_count": 17,
   "metadata": {},
   "outputs": [
    {
     "output_type": "execute_result",
     "data": {
      "text/plain": [
       "128"
      ]
     },
     "metadata": {},
     "execution_count": 17
    }
   ],
   "source": [
    "eps = [i for i in p1 if i <= p1.mean()]\n",
    "len(eps)"
   ]
  },
  {
   "cell_type": "code",
   "execution_count": 18,
   "metadata": {},
   "outputs": [],
   "source": [
    "def f1(ep, p):\n",
    "    tp, fp, fn = tpfpfn(ep, p1)\n",
    "    prec = tp/(tp + fp)\n",
    "    rec = tp/(tp + fn)\n",
    "    f1 = 2*prec*rec/(prec + rec)\n",
    "    return f1"
   ]
  },
  {
   "cell_type": "code",
   "execution_count": 19,
   "metadata": {},
   "outputs": [
    {
     "output_type": "execute_result",
     "data": {
      "text/plain": [
       "127"
      ]
     },
     "metadata": {},
     "execution_count": 19
    }
   ],
   "source": [
    "f = []\n",
    "for i in eps:\n",
    "    f.append(f1(i, p1))\n",
    "f\n",
    "np.array(f).argmax()"
   ]
  },
  {
   "cell_type": "code",
   "execution_count": 20,
   "metadata": {},
   "outputs": [
    {
     "output_type": "execute_result",
     "data": {
      "text/plain": [
       "0.00014529639061630078"
      ]
     },
     "metadata": {},
     "execution_count": 20
    }
   ],
   "source": [
    "e = eps[127]\n",
    "e"
   ]
  },
  {
   "cell_type": "code",
   "execution_count": 21,
   "metadata": {},
   "outputs": [
    {
     "output_type": "execute_result",
     "data": {
      "text/plain": [
       "[0,\n",
       " 0,\n",
       " 0,\n",
       " 0,\n",
       " 0,\n",
       " 0,\n",
       " 0,\n",
       " 0,\n",
       " 0,\n",
       " 0,\n",
       " 0,\n",
       " 0,\n",
       " 0,\n",
       " 0,\n",
       " 0,\n",
       " 0,\n",
       " 0,\n",
       " 0,\n",
       " 0,\n",
       " 0,\n",
       " 0,\n",
       " 0,\n",
       " 0,\n",
       " 0,\n",
       " 0,\n",
       " 0,\n",
       " 0,\n",
       " 0,\n",
       " 0,\n",
       " 0,\n",
       " 0,\n",
       " 0,\n",
       " 0,\n",
       " 0,\n",
       " 0,\n",
       " 0,\n",
       " 0,\n",
       " 0,\n",
       " 0,\n",
       " 0,\n",
       " 0,\n",
       " 0,\n",
       " 0,\n",
       " 0,\n",
       " 0,\n",
       " 0,\n",
       " 0,\n",
       " 0,\n",
       " 0,\n",
       " 0,\n",
       " 0,\n",
       " 0,\n",
       " 0,\n",
       " 0,\n",
       " 0,\n",
       " 0,\n",
       " 0,\n",
       " 0,\n",
       " 0,\n",
       " 0,\n",
       " 0,\n",
       " 0,\n",
       " 0,\n",
       " 0,\n",
       " 0,\n",
       " 0,\n",
       " 0,\n",
       " 0,\n",
       " 0,\n",
       " 0,\n",
       " 0,\n",
       " 0,\n",
       " 0,\n",
       " 0,\n",
       " 0,\n",
       " 0,\n",
       " 0,\n",
       " 0,\n",
       " 0,\n",
       " 0,\n",
       " 0,\n",
       " 0,\n",
       " 0,\n",
       " 0,\n",
       " 0,\n",
       " 0,\n",
       " 0,\n",
       " 0,\n",
       " 0,\n",
       " 0,\n",
       " 0,\n",
       " 0,\n",
       " 0,\n",
       " 0,\n",
       " 0,\n",
       " 0,\n",
       " 0,\n",
       " 0,\n",
       " 0,\n",
       " 0,\n",
       " 0,\n",
       " 0,\n",
       " 0,\n",
       " 0,\n",
       " 0,\n",
       " 0,\n",
       " 0,\n",
       " 0,\n",
       " 0,\n",
       " 0,\n",
       " 0,\n",
       " 0,\n",
       " 0,\n",
       " 0,\n",
       " 0,\n",
       " 0,\n",
       " 0,\n",
       " 0,\n",
       " 0,\n",
       " 0,\n",
       " 0,\n",
       " 0,\n",
       " 0,\n",
       " 0,\n",
       " 0,\n",
       " 0,\n",
       " 0,\n",
       " 0,\n",
       " 0,\n",
       " 0,\n",
       " 0,\n",
       " 0,\n",
       " 0,\n",
       " 0,\n",
       " 0,\n",
       " 0,\n",
       " 0,\n",
       " 0,\n",
       " 0,\n",
       " 0,\n",
       " 0,\n",
       " 0,\n",
       " 0,\n",
       " 0,\n",
       " 0,\n",
       " 0,\n",
       " 0,\n",
       " 0,\n",
       " 0,\n",
       " 0,\n",
       " 0,\n",
       " 0,\n",
       " 0,\n",
       " 0,\n",
       " 0,\n",
       " 0,\n",
       " 0,\n",
       " 0,\n",
       " 0,\n",
       " 0,\n",
       " 0,\n",
       " 0,\n",
       " 0,\n",
       " 0,\n",
       " 0,\n",
       " 0,\n",
       " 0,\n",
       " 0,\n",
       " 0,\n",
       " 0,\n",
       " 0,\n",
       " 0,\n",
       " 0,\n",
       " 0,\n",
       " 0,\n",
       " 0,\n",
       " 0,\n",
       " 0,\n",
       " 0,\n",
       " 0,\n",
       " 0,\n",
       " 0,\n",
       " 0,\n",
       " 0,\n",
       " 0,\n",
       " 0,\n",
       " 0,\n",
       " 0,\n",
       " 0,\n",
       " 0,\n",
       " 0,\n",
       " 0,\n",
       " 0,\n",
       " 0,\n",
       " 0,\n",
       " 0,\n",
       " 0,\n",
       " 0,\n",
       " 0,\n",
       " 0,\n",
       " 0,\n",
       " 0,\n",
       " 0,\n",
       " 0,\n",
       " 0,\n",
       " 0,\n",
       " 0,\n",
       " 0,\n",
       " 0,\n",
       " 0,\n",
       " 0,\n",
       " 0,\n",
       " 0,\n",
       " 0,\n",
       " 0,\n",
       " 0,\n",
       " 0,\n",
       " 0,\n",
       " 0,\n",
       " 0,\n",
       " 0,\n",
       " 0,\n",
       " 0,\n",
       " 0,\n",
       " 0,\n",
       " 0,\n",
       " 0,\n",
       " 0,\n",
       " 0,\n",
       " 0,\n",
       " 0,\n",
       " 0,\n",
       " 0,\n",
       " 0,\n",
       " 0,\n",
       " 0,\n",
       " 0,\n",
       " 0,\n",
       " 0,\n",
       " 0,\n",
       " 0,\n",
       " 0,\n",
       " 0,\n",
       " 0,\n",
       " 0,\n",
       " 0,\n",
       " 0,\n",
       " 0,\n",
       " 0,\n",
       " 0,\n",
       " 0,\n",
       " 0,\n",
       " 0,\n",
       " 0,\n",
       " 0,\n",
       " 0,\n",
       " 0,\n",
       " 0,\n",
       " 0,\n",
       " 0,\n",
       " 0,\n",
       " 0,\n",
       " 0,\n",
       " 0,\n",
       " 0,\n",
       " 0,\n",
       " 0,\n",
       " 0,\n",
       " 0,\n",
       " 0,\n",
       " 0,\n",
       " 0,\n",
       " 0,\n",
       " 0,\n",
       " 0,\n",
       " 0,\n",
       " 0,\n",
       " 0,\n",
       " 0,\n",
       " 0,\n",
       " 0,\n",
       " 0,\n",
       " 0,\n",
       " 0,\n",
       " 0,\n",
       " 0,\n",
       " 0,\n",
       " 0,\n",
       " 0,\n",
       " 0,\n",
       " 0,\n",
       " 0,\n",
       " 0,\n",
       " 0,\n",
       " 0,\n",
       " 0,\n",
       " 0,\n",
       " 0,\n",
       " 0,\n",
       " 0,\n",
       " 1,\n",
       " 1,\n",
       " 0,\n",
       " 1,\n",
       " 1,\n",
       " 1,\n",
       " 1]"
      ]
     },
     "metadata": {},
     "execution_count": 21
    }
   ],
   "source": [
    "label = []\n",
    "for i in range(len(df)):\n",
    "    if p[i] <= e:\n",
    "        label.append(1)\n",
    "    else:\n",
    "        label.append(0)\n",
    "label"
   ]
  },
  {
   "cell_type": "code",
   "execution_count": 43,
   "metadata": {},
   "outputs": [
    {
     "output_type": "stream",
     "name": "stdout",
     "text": [
      "np************************              0          1  label\n0    13.046815  14.741152      0\n1    13.408520  13.763270      0\n2    14.195915  15.853181      0\n3    14.914701  16.174260      0\n4    13.576700  14.042849      0\n..         ...        ...    ...\n302  12.476629  14.459370      0\n303  19.582573  10.411619      1\n304  23.339868  16.298874      1\n305  18.261188  17.978309      1\n306   4.752613  24.350407      1\n\n[307 rows x 3 columns] \n\n 307\n"
     ]
    }
   ],
   "source": [
    "df['label'] = np.array(label)\n",
    "df.head()\n"
   ]
  },
  {
   "cell_type": "code",
   "execution_count": 77,
   "metadata": {},
   "outputs": [
    {
     "output_type": "display_data",
     "data": {
      "text/plain": "<Figure size 432x288 with 1 Axes>",
      "image/svg+xml": "<?xml version=\"1.0\" encoding=\"utf-8\" standalone=\"no\"?>\n<!DOCTYPE svg PUBLIC \"-//W3C//DTD SVG 1.1//EN\"\n  \"http://www.w3.org/Graphics/SVG/1.1/DTD/svg11.dtd\">\n<!-- Created with matplotlib (https://matplotlib.org/) -->\n<svg height=\"248.78288pt\" version=\"1.1\" viewBox=\"0 0 378.465625 248.78288\" width=\"378.465625pt\" xmlns=\"http://www.w3.org/2000/svg\" xmlns:xlink=\"http://www.w3.org/1999/xlink\">\n <metadata>\n  <rdf:RDF xmlns:cc=\"http://creativecommons.org/ns#\" xmlns:dc=\"http://purl.org/dc/elements/1.1/\" xmlns:rdf=\"http://www.w3.org/1999/02/22-rdf-syntax-ns#\">\n   <cc:Work>\n    <dc:type rdf:resource=\"http://purl.org/dc/dcmitype/StillImage\"/>\n    <dc:date>2020-12-04T06:15:49.051200</dc:date>\n    <dc:format>image/svg+xml</dc:format>\n    <dc:creator>\n     <cc:Agent>\n      <dc:title>Matplotlib v3.3.3, https://matplotlib.org/</dc:title>\n     </cc:Agent>\n    </dc:creator>\n   </cc:Work>\n  </rdf:RDF>\n </metadata>\n <defs>\n  <style type=\"text/css\">*{stroke-linecap:butt;stroke-linejoin:round;}</style>\n </defs>\n <g id=\"figure_1\">\n  <g id=\"patch_1\">\n   <path d=\"M 0 248.78288 \nL 378.465625 248.78288 \nL 378.465625 0 \nL 0 0 \nz\n\" style=\"fill:none;\"/>\n  </g>\n  <g id=\"axes_1\">\n   <g id=\"patch_2\">\n    <path d=\"M 36.465625 224.904755 \nL 371.265625 224.904755 \nL 371.265625 7.464755 \nL 36.465625 7.464755 \nz\n\" style=\"fill:#ffffff;\"/>\n   </g>\n   <g id=\"PathCollection_1\">\n    <defs>\n     <path d=\"M 0 3 \nC 0.795609 3 1.55874 2.683901 2.12132 2.12132 \nC 2.683901 1.55874 3 0.795609 3 0 \nC 3 -0.795609 2.683901 -1.55874 2.12132 -2.12132 \nC 1.55874 -2.683901 0.795609 -3 0 -3 \nC -0.795609 -3 -1.55874 -2.683901 -2.12132 -2.12132 \nC -2.683901 -1.55874 -3 -0.795609 -3 0 \nC -3 0.795609 -2.683901 1.55874 -2.12132 2.12132 \nC -1.55874 2.683901 -0.795609 3 0 3 \nz\n\" id=\"m2314dc5f0c\" style=\"stroke:#1f77b4;\"/>\n    </defs>\n    <g clip-path=\"url(#pd824e02489)\">\n     <use style=\"fill:#1f77b4;stroke:#1f77b4;\" x=\"187.500184\" xlink:href=\"#m2314dc5f0c\" y=\"111.270027\"/>\n     <use style=\"fill:#1f77b4;stroke:#1f77b4;\" x=\"193.423051\" xlink:href=\"#m2314dc5f0c\" y=\"120.827933\"/>\n     <use style=\"fill:#1f77b4;stroke:#1f77b4;\" x=\"206.316526\" xlink:href=\"#m2314dc5f0c\" y=\"100.400968\"/>\n     <use style=\"fill:#1f77b4;stroke:#1f77b4;\" x=\"218.086543\" xlink:href=\"#m2314dc5f0c\" y=\"97.262719\"/>\n     <use style=\"fill:#1f77b4;stroke:#1f77b4;\" x=\"196.176965\" xlink:href=\"#m2314dc5f0c\" y=\"118.095297\"/>\n     <use style=\"fill:#1f77b4;stroke:#1f77b4;\" x=\"201.837801\" xlink:href=\"#m2314dc5f0c\" y=\"124.315332\"/>\n     <use style=\"fill:#1f77b4;stroke:#1f77b4;\" x=\"183.821023\" xlink:href=\"#m2314dc5f0c\" y=\"116.332655\"/>\n     <use style=\"fill:#1f77b4;stroke:#1f77b4;\" x=\"230.558705\" xlink:href=\"#m2314dc5f0c\" y=\"100.024566\"/>\n     <use style=\"fill:#1f77b4;stroke:#1f77b4;\" x=\"238.525223\" xlink:href=\"#m2314dc5f0c\" y=\"96.981829\"/>\n     <use style=\"fill:#1f77b4;stroke:#1f77b4;\" x=\"181.271774\" xlink:href=\"#m2314dc5f0c\" y=\"109.726394\"/>\n     <use style=\"fill:#1f77b4;stroke:#1f77b4;\" x=\"202.855451\" xlink:href=\"#m2314dc5f0c\" y=\"128.698623\"/>\n     <use style=\"fill:#1f77b4;stroke:#1f77b4;\" x=\"204.114855\" xlink:href=\"#m2314dc5f0c\" y=\"113.147273\"/>\n     <use style=\"fill:#1f77b4;stroke:#1f77b4;\" x=\"193.117931\" xlink:href=\"#m2314dc5f0c\" y=\"103.246787\"/>\n     <use style=\"fill:#1f77b4;stroke:#1f77b4;\" x=\"193.177176\" xlink:href=\"#m2314dc5f0c\" y=\"102.611799\"/>\n     <use style=\"fill:#1f77b4;stroke:#1f77b4;\" x=\"202.764728\" xlink:href=\"#m2314dc5f0c\" y=\"125.545439\"/>\n     <use style=\"fill:#1f77b4;stroke:#1f77b4;\" x=\"205.857993\" xlink:href=\"#m2314dc5f0c\" y=\"113.96097\"/>\n     <use style=\"fill:#1f77b4;stroke:#1f77b4;\" x=\"202.482298\" xlink:href=\"#m2314dc5f0c\" y=\"111.16572\"/>\n     <use style=\"fill:#1f77b4;stroke:#1f77b4;\" x=\"210.624465\" xlink:href=\"#m2314dc5f0c\" y=\"108.05403\"/>\n     <use style=\"fill:#1f77b4;stroke:#1f77b4;\" x=\"212.683871\" xlink:href=\"#m2314dc5f0c\" y=\"100.652621\"/>\n     <use style=\"fill:#1f77b4;stroke:#1f77b4;\" x=\"171.574908\" xlink:href=\"#m2314dc5f0c\" y=\"127.632245\"/>\n     <use style=\"fill:#1f77b4;stroke:#1f77b4;\" x=\"195.725507\" xlink:href=\"#m2314dc5f0c\" y=\"103.478869\"/>\n     <use style=\"fill:#1f77b4;stroke:#1f77b4;\" x=\"202.883301\" xlink:href=\"#m2314dc5f0c\" y=\"110.814451\"/>\n     <use style=\"fill:#1f77b4;stroke:#1f77b4;\" x=\"218.99074\" xlink:href=\"#m2314dc5f0c\" y=\"93.899994\"/>\n     <use style=\"fill:#1f77b4;stroke:#1f77b4;\" x=\"207.29658\" xlink:href=\"#m2314dc5f0c\" y=\"105.863784\"/>\n     <use style=\"fill:#1f77b4;stroke:#1f77b4;\" x=\"224.956602\" xlink:href=\"#m2314dc5f0c\" y=\"97.747122\"/>\n     <use style=\"fill:#1f77b4;stroke:#1f77b4;\" x=\"229.882137\" xlink:href=\"#m2314dc5f0c\" y=\"94.167415\"/>\n     <use style=\"fill:#1f77b4;stroke:#1f77b4;\" x=\"196.899315\" xlink:href=\"#m2314dc5f0c\" y=\"104.249082\"/>\n     <use style=\"fill:#1f77b4;stroke:#1f77b4;\" x=\"216.461896\" xlink:href=\"#m2314dc5f0c\" y=\"105.421091\"/>\n     <use style=\"fill:#1f77b4;stroke:#1f77b4;\" x=\"212.821846\" xlink:href=\"#m2314dc5f0c\" y=\"112.528649\"/>\n     <use style=\"fill:#1f77b4;stroke:#1f77b4;\" x=\"211.11686\" xlink:href=\"#m2314dc5f0c\" y=\"102.476079\"/>\n     <use style=\"fill:#1f77b4;stroke:#1f77b4;\" x=\"228.113641\" xlink:href=\"#m2314dc5f0c\" y=\"112.30092\"/>\n     <use style=\"fill:#1f77b4;stroke:#1f77b4;\" x=\"202.700176\" xlink:href=\"#m2314dc5f0c\" y=\"111.033857\"/>\n     <use style=\"fill:#1f77b4;stroke:#1f77b4;\" x=\"185.97461\" xlink:href=\"#m2314dc5f0c\" y=\"110.467256\"/>\n     <use style=\"fill:#1f77b4;stroke:#1f77b4;\" x=\"184.897552\" xlink:href=\"#m2314dc5f0c\" y=\"107.996436\"/>\n     <use style=\"fill:#1f77b4;stroke:#1f77b4;\" x=\"236.214964\" xlink:href=\"#m2314dc5f0c\" y=\"96.449417\"/>\n     <use style=\"fill:#1f77b4;stroke:#1f77b4;\" x=\"218.276359\" xlink:href=\"#m2314dc5f0c\" y=\"96.060596\"/>\n     <use style=\"fill:#1f77b4;stroke:#1f77b4;\" x=\"177.98277\" xlink:href=\"#m2314dc5f0c\" y=\"116.723381\"/>\n     <use style=\"fill:#1f77b4;stroke:#1f77b4;\" x=\"204.49479\" xlink:href=\"#m2314dc5f0c\" y=\"114.194729\"/>\n     <use style=\"fill:#1f77b4;stroke:#1f77b4;\" x=\"211.904616\" xlink:href=\"#m2314dc5f0c\" y=\"116.146413\"/>\n     <use style=\"fill:#1f77b4;stroke:#1f77b4;\" x=\"206.751994\" xlink:href=\"#m2314dc5f0c\" y=\"104.59717\"/>\n     <use style=\"fill:#1f77b4;stroke:#1f77b4;\" x=\"211.608391\" xlink:href=\"#m2314dc5f0c\" y=\"118.526651\"/>\n     <use style=\"fill:#1f77b4;stroke:#1f77b4;\" x=\"188.693897\" xlink:href=\"#m2314dc5f0c\" y=\"112.055218\"/>\n     <use style=\"fill:#1f77b4;stroke:#1f77b4;\" x=\"211.474182\" xlink:href=\"#m2314dc5f0c\" y=\"105.762342\"/>\n     <use style=\"fill:#1f77b4;stroke:#1f77b4;\" x=\"206.098895\" xlink:href=\"#m2314dc5f0c\" y=\"104.89012\"/>\n     <use style=\"fill:#1f77b4;stroke:#1f77b4;\" x=\"214.841336\" xlink:href=\"#m2314dc5f0c\" y=\"101.568819\"/>\n     <use style=\"fill:#1f77b4;stroke:#1f77b4;\" x=\"200.39918\" xlink:href=\"#m2314dc5f0c\" y=\"97.290863\"/>\n     <use style=\"fill:#1f77b4;stroke:#1f77b4;\" x=\"235.870637\" xlink:href=\"#m2314dc5f0c\" y=\"111.747224\"/>\n     <use style=\"fill:#1f77b4;stroke:#1f77b4;\" x=\"205.1885\" xlink:href=\"#m2314dc5f0c\" y=\"99.800384\"/>\n     <use style=\"fill:#1f77b4;stroke:#1f77b4;\" x=\"200.583208\" xlink:href=\"#m2314dc5f0c\" y=\"115.177303\"/>\n     <use style=\"fill:#1f77b4;stroke:#1f77b4;\" x=\"226.266772\" xlink:href=\"#m2314dc5f0c\" y=\"96.596401\"/>\n     <use style=\"fill:#1f77b4;stroke:#1f77b4;\" x=\"190.872128\" xlink:href=\"#m2314dc5f0c\" y=\"108.65584\"/>\n     <use style=\"fill:#1f77b4;stroke:#1f77b4;\" x=\"197.678583\" xlink:href=\"#m2314dc5f0c\" y=\"115.006581\"/>\n     <use style=\"fill:#1f77b4;stroke:#1f77b4;\" x=\"199.4298\" xlink:href=\"#m2314dc5f0c\" y=\"111.300007\"/>\n     <use style=\"fill:#1f77b4;stroke:#1f77b4;\" x=\"205.168789\" xlink:href=\"#m2314dc5f0c\" y=\"109.42608\"/>\n     <use style=\"fill:#1f77b4;stroke:#1f77b4;\" x=\"212.069524\" xlink:href=\"#m2314dc5f0c\" y=\"102.549181\"/>\n     <use style=\"fill:#1f77b4;stroke:#1f77b4;\" x=\"205.606937\" xlink:href=\"#m2314dc5f0c\" y=\"113.272985\"/>\n     <use style=\"fill:#1f77b4;stroke:#1f77b4;\" x=\"205.179567\" xlink:href=\"#m2314dc5f0c\" y=\"105.37114\"/>\n     <use style=\"fill:#1f77b4;stroke:#1f77b4;\" x=\"207.419074\" xlink:href=\"#m2314dc5f0c\" y=\"108.881078\"/>\n     <use style=\"fill:#1f77b4;stroke:#1f77b4;\" x=\"215.770197\" xlink:href=\"#m2314dc5f0c\" y=\"106.267239\"/>\n     <use style=\"fill:#1f77b4;stroke:#1f77b4;\" x=\"206.542245\" xlink:href=\"#m2314dc5f0c\" y=\"97.541614\"/>\n     <use style=\"fill:#1f77b4;stroke:#1f77b4;\" x=\"191.001783\" xlink:href=\"#m2314dc5f0c\" y=\"104.046886\"/>\n     <use style=\"fill:#1f77b4;stroke:#1f77b4;\" x=\"207.246924\" xlink:href=\"#m2314dc5f0c\" y=\"108.433675\"/>\n     <use style=\"fill:#1f77b4;stroke:#1f77b4;\" x=\"185.443981\" xlink:href=\"#m2314dc5f0c\" y=\"126.399689\"/>\n     <use style=\"fill:#1f77b4;stroke:#1f77b4;\" x=\"200.692032\" xlink:href=\"#m2314dc5f0c\" y=\"125.041916\"/>\n     <use style=\"fill:#1f77b4;stroke:#1f77b4;\" x=\"202.593754\" xlink:href=\"#m2314dc5f0c\" y=\"126.350848\"/>\n     <use style=\"fill:#1f77b4;stroke:#1f77b4;\" x=\"190.861199\" xlink:href=\"#m2314dc5f0c\" y=\"105.138634\"/>\n     <use style=\"fill:#1f77b4;stroke:#1f77b4;\" x=\"198.269619\" xlink:href=\"#m2314dc5f0c\" y=\"126.193479\"/>\n     <use style=\"fill:#1f77b4;stroke:#1f77b4;\" x=\"211.439112\" xlink:href=\"#m2314dc5f0c\" y=\"104.238904\"/>\n     <use style=\"fill:#1f77b4;stroke:#1f77b4;\" x=\"230.788948\" xlink:href=\"#m2314dc5f0c\" y=\"94.257886\"/>\n     <use style=\"fill:#1f77b4;stroke:#1f77b4;\" x=\"186.012802\" xlink:href=\"#m2314dc5f0c\" y=\"133.790706\"/>\n     <use style=\"fill:#1f77b4;stroke:#1f77b4;\" x=\"196.445946\" xlink:href=\"#m2314dc5f0c\" y=\"110.285322\"/>\n     <use style=\"fill:#1f77b4;stroke:#1f77b4;\" x=\"221.591509\" xlink:href=\"#m2314dc5f0c\" y=\"87.727591\"/>\n     <use style=\"fill:#1f77b4;stroke:#1f77b4;\" x=\"207.48136\" xlink:href=\"#m2314dc5f0c\" y=\"102.137445\"/>\n     <use style=\"fill:#1f77b4;stroke:#1f77b4;\" x=\"230.314464\" xlink:href=\"#m2314dc5f0c\" y=\"110.582791\"/>\n     <use style=\"fill:#1f77b4;stroke:#1f77b4;\" x=\"208.669788\" xlink:href=\"#m2314dc5f0c\" y=\"103.930957\"/>\n     <use style=\"fill:#1f77b4;stroke:#1f77b4;\" x=\"207.6308\" xlink:href=\"#m2314dc5f0c\" y=\"111.614519\"/>\n     <use style=\"fill:#1f77b4;stroke:#1f77b4;\" x=\"217.198861\" xlink:href=\"#m2314dc5f0c\" y=\"102.973246\"/>\n     <use style=\"fill:#1f77b4;stroke:#1f77b4;\" x=\"204.813805\" xlink:href=\"#m2314dc5f0c\" y=\"106.975764\"/>\n     <use style=\"fill:#1f77b4;stroke:#1f77b4;\" x=\"235.666296\" xlink:href=\"#m2314dc5f0c\" y=\"102.669819\"/>\n     <use style=\"fill:#1f77b4;stroke:#1f77b4;\" x=\"194.507323\" xlink:href=\"#m2314dc5f0c\" y=\"102.943302\"/>\n     <use style=\"fill:#1f77b4;stroke:#1f77b4;\" x=\"199.446638\" xlink:href=\"#m2314dc5f0c\" y=\"108.818767\"/>\n     <use style=\"fill:#1f77b4;stroke:#1f77b4;\" x=\"183.912347\" xlink:href=\"#m2314dc5f0c\" y=\"102.178014\"/>\n     <use style=\"fill:#1f77b4;stroke:#1f77b4;\" x=\"197.731844\" xlink:href=\"#m2314dc5f0c\" y=\"107.571621\"/>\n     <use style=\"fill:#1f77b4;stroke:#1f77b4;\" x=\"225.821077\" xlink:href=\"#m2314dc5f0c\" y=\"103.174968\"/>\n     <use style=\"fill:#1f77b4;stroke:#1f77b4;\" x=\"228.378281\" xlink:href=\"#m2314dc5f0c\" y=\"103.702161\"/>\n     <use style=\"fill:#1f77b4;stroke:#1f77b4;\" x=\"200.702343\" xlink:href=\"#m2314dc5f0c\" y=\"102.809857\"/>\n     <use style=\"fill:#1f77b4;stroke:#1f77b4;\" x=\"196.972011\" xlink:href=\"#m2314dc5f0c\" y=\"114.095301\"/>\n     <use style=\"fill:#1f77b4;stroke:#1f77b4;\" x=\"219.741675\" xlink:href=\"#m2314dc5f0c\" y=\"109.554788\"/>\n     <use style=\"fill:#1f77b4;stroke:#1f77b4;\" x=\"200.430464\" xlink:href=\"#m2314dc5f0c\" y=\"106.302303\"/>\n     <use style=\"fill:#1f77b4;stroke:#1f77b4;\" x=\"206.824631\" xlink:href=\"#m2314dc5f0c\" y=\"115.112884\"/>\n     <use style=\"fill:#1f77b4;stroke:#1f77b4;\" x=\"190.621413\" xlink:href=\"#m2314dc5f0c\" y=\"112.546179\"/>\n     <use style=\"fill:#1f77b4;stroke:#1f77b4;\" x=\"193.035115\" xlink:href=\"#m2314dc5f0c\" y=\"111.34782\"/>\n     <use style=\"fill:#1f77b4;stroke:#1f77b4;\" x=\"201.001022\" xlink:href=\"#m2314dc5f0c\" y=\"108.994208\"/>\n     <use style=\"fill:#1f77b4;stroke:#1f77b4;\" x=\"176.817936\" xlink:href=\"#m2314dc5f0c\" y=\"112.21489\"/>\n     <use style=\"fill:#1f77b4;stroke:#1f77b4;\" x=\"208.378952\" xlink:href=\"#m2314dc5f0c\" y=\"113.344538\"/>\n     <use style=\"fill:#1f77b4;stroke:#1f77b4;\" x=\"233.068721\" xlink:href=\"#m2314dc5f0c\" y=\"101.739886\"/>\n     <use style=\"fill:#1f77b4;stroke:#1f77b4;\" x=\"232.612224\" xlink:href=\"#m2314dc5f0c\" y=\"98.789144\"/>\n     <use style=\"fill:#1f77b4;stroke:#1f77b4;\" x=\"214.530108\" xlink:href=\"#m2314dc5f0c\" y=\"117.419536\"/>\n     <use style=\"fill:#1f77b4;stroke:#1f77b4;\" x=\"214.668878\" xlink:href=\"#m2314dc5f0c\" y=\"94.465933\"/>\n     <use style=\"fill:#1f77b4;stroke:#1f77b4;\" x=\"196.420443\" xlink:href=\"#m2314dc5f0c\" y=\"109.52439\"/>\n     <use style=\"fill:#1f77b4;stroke:#1f77b4;\" x=\"175.26866\" xlink:href=\"#m2314dc5f0c\" y=\"110.976392\"/>\n     <use style=\"fill:#1f77b4;stroke:#1f77b4;\" x=\"193.267937\" xlink:href=\"#m2314dc5f0c\" y=\"97.801571\"/>\n     <use style=\"fill:#1f77b4;stroke:#1f77b4;\" x=\"221.630519\" xlink:href=\"#m2314dc5f0c\" y=\"99.940314\"/>\n     <use style=\"fill:#1f77b4;stroke:#1f77b4;\" x=\"225.800922\" xlink:href=\"#m2314dc5f0c\" y=\"101.756061\"/>\n     <use style=\"fill:#1f77b4;stroke:#1f77b4;\" x=\"226.931806\" xlink:href=\"#m2314dc5f0c\" y=\"104.435305\"/>\n     <use style=\"fill:#1f77b4;stroke:#1f77b4;\" x=\"199.006798\" xlink:href=\"#m2314dc5f0c\" y=\"106.12027\"/>\n     <use style=\"fill:#1f77b4;stroke:#1f77b4;\" x=\"230.931678\" xlink:href=\"#m2314dc5f0c\" y=\"98.419009\"/>\n     <use style=\"fill:#1f77b4;stroke:#1f77b4;\" x=\"216.303389\" xlink:href=\"#m2314dc5f0c\" y=\"115.263357\"/>\n     <use style=\"fill:#1f77b4;stroke:#1f77b4;\" x=\"222.303538\" xlink:href=\"#m2314dc5f0c\" y=\"92.063063\"/>\n     <use style=\"fill:#1f77b4;stroke:#1f77b4;\" x=\"158.063757\" xlink:href=\"#m2314dc5f0c\" y=\"107.440478\"/>\n     <use style=\"fill:#1f77b4;stroke:#1f77b4;\" x=\"201.270192\" xlink:href=\"#m2314dc5f0c\" y=\"113.768977\"/>\n     <use style=\"fill:#1f77b4;stroke:#1f77b4;\" x=\"224.819383\" xlink:href=\"#m2314dc5f0c\" y=\"93.245759\"/>\n     <use style=\"fill:#1f77b4;stroke:#1f77b4;\" x=\"186.327014\" xlink:href=\"#m2314dc5f0c\" y=\"107.170628\"/>\n     <use style=\"fill:#1f77b4;stroke:#1f77b4;\" x=\"204.324737\" xlink:href=\"#m2314dc5f0c\" y=\"87.044158\"/>\n     <use style=\"fill:#1f77b4;stroke:#1f77b4;\" x=\"206.089093\" xlink:href=\"#m2314dc5f0c\" y=\"81.044981\"/>\n     <use style=\"fill:#1f77b4;stroke:#1f77b4;\" x=\"174.28379\" xlink:href=\"#m2314dc5f0c\" y=\"111.392048\"/>\n     <use style=\"fill:#1f77b4;stroke:#1f77b4;\" x=\"216.626869\" xlink:href=\"#m2314dc5f0c\" y=\"99.503456\"/>\n     <use style=\"fill:#1f77b4;stroke:#1f77b4;\" x=\"188.332329\" xlink:href=\"#m2314dc5f0c\" y=\"96.714343\"/>\n     <use style=\"fill:#1f77b4;stroke:#1f77b4;\" x=\"200.776485\" xlink:href=\"#m2314dc5f0c\" y=\"108.395314\"/>\n     <use style=\"fill:#1f77b4;stroke:#1f77b4;\" x=\"228.080519\" xlink:href=\"#m2314dc5f0c\" y=\"91.278281\"/>\n     <use style=\"fill:#1f77b4;stroke:#1f77b4;\" x=\"224.641308\" xlink:href=\"#m2314dc5f0c\" y=\"112.95897\"/>\n     <use style=\"fill:#1f77b4;stroke:#1f77b4;\" x=\"203.605405\" xlink:href=\"#m2314dc5f0c\" y=\"102.256277\"/>\n     <use style=\"fill:#1f77b4;stroke:#1f77b4;\" x=\"210.037141\" xlink:href=\"#m2314dc5f0c\" y=\"109.315788\"/>\n     <use style=\"fill:#1f77b4;stroke:#1f77b4;\" x=\"197.150477\" xlink:href=\"#m2314dc5f0c\" y=\"109.09076\"/>\n     <use style=\"fill:#1f77b4;stroke:#1f77b4;\" x=\"211.865385\" xlink:href=\"#m2314dc5f0c\" y=\"124.807469\"/>\n     <use style=\"fill:#1f77b4;stroke:#1f77b4;\" x=\"213.18983\" xlink:href=\"#m2314dc5f0c\" y=\"117.02444\"/>\n     <use style=\"fill:#1f77b4;stroke:#1f77b4;\" x=\"188.057588\" xlink:href=\"#m2314dc5f0c\" y=\"118.235946\"/>\n     <use style=\"fill:#1f77b4;stroke:#1f77b4;\" x=\"218.489135\" xlink:href=\"#m2314dc5f0c\" y=\"113.144842\"/>\n     <use style=\"fill:#1f77b4;stroke:#1f77b4;\" x=\"236.302357\" xlink:href=\"#m2314dc5f0c\" y=\"101.803772\"/>\n     <use style=\"fill:#1f77b4;stroke:#1f77b4;\" x=\"208.336128\" xlink:href=\"#m2314dc5f0c\" y=\"107.590338\"/>\n     <use style=\"fill:#1f77b4;stroke:#1f77b4;\" x=\"217.21593\" xlink:href=\"#m2314dc5f0c\" y=\"115.732563\"/>\n     <use style=\"fill:#1f77b4;stroke:#1f77b4;\" x=\"203.342942\" xlink:href=\"#m2314dc5f0c\" y=\"91.344974\"/>\n     <use style=\"fill:#1f77b4;stroke:#1f77b4;\" x=\"193.408879\" xlink:href=\"#m2314dc5f0c\" y=\"112.645636\"/>\n     <use style=\"fill:#1f77b4;stroke:#1f77b4;\" x=\"188.036987\" xlink:href=\"#m2314dc5f0c\" y=\"116.618925\"/>\n     <use style=\"fill:#1f77b4;stroke:#1f77b4;\" x=\"181.628024\" xlink:href=\"#m2314dc5f0c\" y=\"120.360474\"/>\n     <use style=\"fill:#1f77b4;stroke:#1f77b4;\" x=\"206.257785\" xlink:href=\"#m2314dc5f0c\" y=\"105.172668\"/>\n     <use style=\"fill:#1f77b4;stroke:#1f77b4;\" x=\"217.287333\" xlink:href=\"#m2314dc5f0c\" y=\"113.906728\"/>\n     <use style=\"fill:#1f77b4;stroke:#1f77b4;\" x=\"193.177147\" xlink:href=\"#m2314dc5f0c\" y=\"115.152815\"/>\n     <use style=\"fill:#1f77b4;stroke:#1f77b4;\" x=\"196.338943\" xlink:href=\"#m2314dc5f0c\" y=\"114.687705\"/>\n     <use style=\"fill:#1f77b4;stroke:#1f77b4;\" x=\"188.406986\" xlink:href=\"#m2314dc5f0c\" y=\"114.838738\"/>\n     <use style=\"fill:#1f77b4;stroke:#1f77b4;\" x=\"211.979782\" xlink:href=\"#m2314dc5f0c\" y=\"95.326668\"/>\n     <use style=\"fill:#1f77b4;stroke:#1f77b4;\" x=\"207.300855\" xlink:href=\"#m2314dc5f0c\" y=\"108.326103\"/>\n     <use style=\"fill:#1f77b4;stroke:#1f77b4;\" x=\"238.929228\" xlink:href=\"#m2314dc5f0c\" y=\"95.433082\"/>\n     <use style=\"fill:#1f77b4;stroke:#1f77b4;\" x=\"197.097626\" xlink:href=\"#m2314dc5f0c\" y=\"122.141576\"/>\n     <use style=\"fill:#1f77b4;stroke:#1f77b4;\" x=\"213.809309\" xlink:href=\"#m2314dc5f0c\" y=\"108.969797\"/>\n     <use style=\"fill:#1f77b4;stroke:#1f77b4;\" x=\"180.496704\" xlink:href=\"#m2314dc5f0c\" y=\"91.418959\"/>\n     <use style=\"fill:#1f77b4;stroke:#1f77b4;\" x=\"187.294878\" xlink:href=\"#m2314dc5f0c\" y=\"116.003238\"/>\n     <use style=\"fill:#1f77b4;stroke:#1f77b4;\" x=\"151.681582\" xlink:href=\"#m2314dc5f0c\" y=\"113.830915\"/>\n     <use style=\"fill:#1f77b4;stroke:#1f77b4;\" x=\"185.666945\" xlink:href=\"#m2314dc5f0c\" y=\"112.576681\"/>\n     <use style=\"fill:#1f77b4;stroke:#1f77b4;\" x=\"202.981833\" xlink:href=\"#m2314dc5f0c\" y=\"109.110193\"/>\n     <use style=\"fill:#1f77b4;stroke:#1f77b4;\" x=\"179.733128\" xlink:href=\"#m2314dc5f0c\" y=\"106.811863\"/>\n     <use style=\"fill:#1f77b4;stroke:#1f77b4;\" x=\"230.661881\" xlink:href=\"#m2314dc5f0c\" y=\"96.803539\"/>\n     <use style=\"fill:#1f77b4;stroke:#1f77b4;\" x=\"190.214584\" xlink:href=\"#m2314dc5f0c\" y=\"115.075322\"/>\n     <use style=\"fill:#1f77b4;stroke:#1f77b4;\" x=\"202.940607\" xlink:href=\"#m2314dc5f0c\" y=\"113.388031\"/>\n     <use style=\"fill:#1f77b4;stroke:#1f77b4;\" x=\"194.368638\" xlink:href=\"#m2314dc5f0c\" y=\"121.860216\"/>\n     <use style=\"fill:#1f77b4;stroke:#1f77b4;\" x=\"188.889569\" xlink:href=\"#m2314dc5f0c\" y=\"100.932241\"/>\n     <use style=\"fill:#1f77b4;stroke:#1f77b4;\" x=\"208.911576\" xlink:href=\"#m2314dc5f0c\" y=\"108.512365\"/>\n     <use style=\"fill:#1f77b4;stroke:#1f77b4;\" x=\"195.793704\" xlink:href=\"#m2314dc5f0c\" y=\"121.13173\"/>\n     <use style=\"fill:#1f77b4;stroke:#1f77b4;\" x=\"186.508999\" xlink:href=\"#m2314dc5f0c\" y=\"110.598698\"/>\n     <use style=\"fill:#1f77b4;stroke:#1f77b4;\" x=\"209.21052\" xlink:href=\"#m2314dc5f0c\" y=\"109.21425\"/>\n     <use style=\"fill:#1f77b4;stroke:#1f77b4;\" x=\"196.373315\" xlink:href=\"#m2314dc5f0c\" y=\"106.806895\"/>\n     <use style=\"fill:#1f77b4;stroke:#1f77b4;\" x=\"174.616566\" xlink:href=\"#m2314dc5f0c\" y=\"102.742253\"/>\n     <use style=\"fill:#1f77b4;stroke:#1f77b4;\" x=\"197.639655\" xlink:href=\"#m2314dc5f0c\" y=\"94.614785\"/>\n     <use style=\"fill:#1f77b4;stroke:#1f77b4;\" x=\"208.76671\" xlink:href=\"#m2314dc5f0c\" y=\"104.353054\"/>\n     <use style=\"fill:#1f77b4;stroke:#1f77b4;\" x=\"213.042665\" xlink:href=\"#m2314dc5f0c\" y=\"101.149932\"/>\n     <use style=\"fill:#1f77b4;stroke:#1f77b4;\" x=\"205.625186\" xlink:href=\"#m2314dc5f0c\" y=\"93.351659\"/>\n     <use style=\"fill:#1f77b4;stroke:#1f77b4;\" x=\"203.910735\" xlink:href=\"#m2314dc5f0c\" y=\"114.694514\"/>\n     <use style=\"fill:#1f77b4;stroke:#1f77b4;\" x=\"204.231349\" xlink:href=\"#m2314dc5f0c\" y=\"112.418578\"/>\n     <use style=\"fill:#1f77b4;stroke:#1f77b4;\" x=\"234.038929\" xlink:href=\"#m2314dc5f0c\" y=\"95.671535\"/>\n     <use style=\"fill:#1f77b4;stroke:#1f77b4;\" x=\"202.715685\" xlink:href=\"#m2314dc5f0c\" y=\"100.509624\"/>\n     <use style=\"fill:#1f77b4;stroke:#1f77b4;\" x=\"152.055139\" xlink:href=\"#m2314dc5f0c\" y=\"123.775871\"/>\n     <use style=\"fill:#1f77b4;stroke:#1f77b4;\" x=\"201.621663\" xlink:href=\"#m2314dc5f0c\" y=\"108.96898\"/>\n     <use style=\"fill:#1f77b4;stroke:#1f77b4;\" x=\"176.380776\" xlink:href=\"#m2314dc5f0c\" y=\"107.351623\"/>\n     <use style=\"fill:#1f77b4;stroke:#1f77b4;\" x=\"222.228655\" xlink:href=\"#m2314dc5f0c\" y=\"103.663973\"/>\n     <use style=\"fill:#1f77b4;stroke:#1f77b4;\" x=\"225.013016\" xlink:href=\"#m2314dc5f0c\" y=\"116.234879\"/>\n     <use style=\"fill:#1f77b4;stroke:#1f77b4;\" x=\"195.74921\" xlink:href=\"#m2314dc5f0c\" y=\"101.600644\"/>\n     <use style=\"fill:#1f77b4;stroke:#1f77b4;\" x=\"196.217689\" xlink:href=\"#m2314dc5f0c\" y=\"104.120365\"/>\n     <use style=\"fill:#1f77b4;stroke:#1f77b4;\" x=\"207.116865\" xlink:href=\"#m2314dc5f0c\" y=\"107.908342\"/>\n     <use style=\"fill:#1f77b4;stroke:#1f77b4;\" x=\"224.901139\" xlink:href=\"#m2314dc5f0c\" y=\"101.786495\"/>\n     <use style=\"fill:#1f77b4;stroke:#1f77b4;\" x=\"234.501488\" xlink:href=\"#m2314dc5f0c\" y=\"107.210246\"/>\n     <use style=\"fill:#1f77b4;stroke:#1f77b4;\" x=\"200.7212\" xlink:href=\"#m2314dc5f0c\" y=\"105.600032\"/>\n     <use style=\"fill:#1f77b4;stroke:#1f77b4;\" x=\"204.539053\" xlink:href=\"#m2314dc5f0c\" y=\"115.510695\"/>\n     <use style=\"fill:#1f77b4;stroke:#1f77b4;\" x=\"180.774945\" xlink:href=\"#m2314dc5f0c\" y=\"102.380416\"/>\n     <use style=\"fill:#1f77b4;stroke:#1f77b4;\" x=\"209.049698\" xlink:href=\"#m2314dc5f0c\" y=\"119.765642\"/>\n     <use style=\"fill:#1f77b4;stroke:#1f77b4;\" x=\"211.306784\" xlink:href=\"#m2314dc5f0c\" y=\"112.477734\"/>\n     <use style=\"fill:#1f77b4;stroke:#1f77b4;\" x=\"202.614673\" xlink:href=\"#m2314dc5f0c\" y=\"97.270966\"/>\n     <use style=\"fill:#1f77b4;stroke:#1f77b4;\" x=\"221.633837\" xlink:href=\"#m2314dc5f0c\" y=\"105.912892\"/>\n     <use style=\"fill:#1f77b4;stroke:#1f77b4;\" x=\"221.988697\" xlink:href=\"#m2314dc5f0c\" y=\"118.380907\"/>\n     <use style=\"fill:#1f77b4;stroke:#1f77b4;\" x=\"191.811753\" xlink:href=\"#m2314dc5f0c\" y=\"114.696328\"/>\n     <use style=\"fill:#1f77b4;stroke:#1f77b4;\" x=\"207.31878\" xlink:href=\"#m2314dc5f0c\" y=\"115.61072\"/>\n     <use style=\"fill:#1f77b4;stroke:#1f77b4;\" x=\"198.46014\" xlink:href=\"#m2314dc5f0c\" y=\"123.13398\"/>\n     <use style=\"fill:#1f77b4;stroke:#1f77b4;\" x=\"230.961107\" xlink:href=\"#m2314dc5f0c\" y=\"99.003928\"/>\n     <use style=\"fill:#1f77b4;stroke:#1f77b4;\" x=\"193.110537\" xlink:href=\"#m2314dc5f0c\" y=\"114.94526\"/>\n     <use style=\"fill:#1f77b4;stroke:#1f77b4;\" x=\"205.415448\" xlink:href=\"#m2314dc5f0c\" y=\"118.764273\"/>\n     <use style=\"fill:#1f77b4;stroke:#1f77b4;\" x=\"216.943082\" xlink:href=\"#m2314dc5f0c\" y=\"118.34843\"/>\n     <use style=\"fill:#1f77b4;stroke:#1f77b4;\" x=\"181.901304\" xlink:href=\"#m2314dc5f0c\" y=\"115.846467\"/>\n     <use style=\"fill:#1f77b4;stroke:#1f77b4;\" x=\"218.722452\" xlink:href=\"#m2314dc5f0c\" y=\"111.357636\"/>\n     <use style=\"fill:#1f77b4;stroke:#1f77b4;\" x=\"207.712095\" xlink:href=\"#m2314dc5f0c\" y=\"112.526277\"/>\n     <use style=\"fill:#1f77b4;stroke:#1f77b4;\" x=\"187.84693\" xlink:href=\"#m2314dc5f0c\" y=\"110.373636\"/>\n     <use style=\"fill:#1f77b4;stroke:#1f77b4;\" x=\"196.604306\" xlink:href=\"#m2314dc5f0c\" y=\"136.078604\"/>\n     <use style=\"fill:#1f77b4;stroke:#1f77b4;\" x=\"181.627336\" xlink:href=\"#m2314dc5f0c\" y=\"100.809176\"/>\n     <use style=\"fill:#1f77b4;stroke:#1f77b4;\" x=\"201.191236\" xlink:href=\"#m2314dc5f0c\" y=\"117.359951\"/>\n     <use style=\"fill:#1f77b4;stroke:#1f77b4;\" x=\"203.378343\" xlink:href=\"#m2314dc5f0c\" y=\"115.238818\"/>\n     <use style=\"fill:#1f77b4;stroke:#1f77b4;\" x=\"225.472663\" xlink:href=\"#m2314dc5f0c\" y=\"100.665615\"/>\n     <use style=\"fill:#1f77b4;stroke:#1f77b4;\" x=\"196.192488\" xlink:href=\"#m2314dc5f0c\" y=\"109.908469\"/>\n     <use style=\"fill:#1f77b4;stroke:#1f77b4;\" x=\"193.150774\" xlink:href=\"#m2314dc5f0c\" y=\"115.142272\"/>\n     <use style=\"fill:#1f77b4;stroke:#1f77b4;\" x=\"198.091535\" xlink:href=\"#m2314dc5f0c\" y=\"99.72931\"/>\n     <use style=\"fill:#1f77b4;stroke:#1f77b4;\" x=\"184.74461\" xlink:href=\"#m2314dc5f0c\" y=\"126.316322\"/>\n     <use style=\"fill:#1f77b4;stroke:#1f77b4;\" x=\"198.182297\" xlink:href=\"#m2314dc5f0c\" y=\"104.654457\"/>\n     <use style=\"fill:#1f77b4;stroke:#1f77b4;\" x=\"203.371933\" xlink:href=\"#m2314dc5f0c\" y=\"100.709066\"/>\n     <use style=\"fill:#1f77b4;stroke:#1f77b4;\" x=\"212.769042\" xlink:href=\"#m2314dc5f0c\" y=\"95.242935\"/>\n     <use style=\"fill:#1f77b4;stroke:#1f77b4;\" x=\"219.611741\" xlink:href=\"#m2314dc5f0c\" y=\"103.759712\"/>\n     <use style=\"fill:#1f77b4;stroke:#1f77b4;\" x=\"204.082875\" xlink:href=\"#m2314dc5f0c\" y=\"120.880545\"/>\n     <use style=\"fill:#1f77b4;stroke:#1f77b4;\" x=\"210.659662\" xlink:href=\"#m2314dc5f0c\" y=\"124.923394\"/>\n     <use style=\"fill:#1f77b4;stroke:#1f77b4;\" x=\"213.666101\" xlink:href=\"#m2314dc5f0c\" y=\"108.358267\"/>\n     <use style=\"fill:#1f77b4;stroke:#1f77b4;\" x=\"200.730639\" xlink:href=\"#m2314dc5f0c\" y=\"100.274282\"/>\n     <use style=\"fill:#1f77b4;stroke:#1f77b4;\" x=\"207.71662\" xlink:href=\"#m2314dc5f0c\" y=\"118.28533\"/>\n     <use style=\"fill:#1f77b4;stroke:#1f77b4;\" x=\"218.386936\" xlink:href=\"#m2314dc5f0c\" y=\"115.323895\"/>\n     <use style=\"fill:#1f77b4;stroke:#1f77b4;\" x=\"199.330901\" xlink:href=\"#m2314dc5f0c\" y=\"93.950816\"/>\n     <use style=\"fill:#1f77b4;stroke:#1f77b4;\" x=\"194.00474\" xlink:href=\"#m2314dc5f0c\" y=\"107.965662\"/>\n     <use style=\"fill:#1f77b4;stroke:#1f77b4;\" x=\"203.629052\" xlink:href=\"#m2314dc5f0c\" y=\"114.508041\"/>\n     <use style=\"fill:#1f77b4;stroke:#1f77b4;\" x=\"200.15227\" xlink:href=\"#m2314dc5f0c\" y=\"103.004912\"/>\n     <use style=\"fill:#1f77b4;stroke:#1f77b4;\" x=\"244.153115\" xlink:href=\"#m2314dc5f0c\" y=\"106.586825\"/>\n     <use style=\"fill:#1f77b4;stroke:#1f77b4;\" x=\"173.70301\" xlink:href=\"#m2314dc5f0c\" y=\"115.376038\"/>\n     <use style=\"fill:#1f77b4;stroke:#1f77b4;\" x=\"217.549925\" xlink:href=\"#m2314dc5f0c\" y=\"95.431423\"/>\n     <use style=\"fill:#1f77b4;stroke:#1f77b4;\" x=\"222.108359\" xlink:href=\"#m2314dc5f0c\" y=\"107.27665\"/>\n     <use style=\"fill:#1f77b4;stroke:#1f77b4;\" x=\"166.880651\" xlink:href=\"#m2314dc5f0c\" y=\"113.135027\"/>\n     <use style=\"fill:#1f77b4;stroke:#1f77b4;\" x=\"184.832192\" xlink:href=\"#m2314dc5f0c\" y=\"112.918416\"/>\n     <use style=\"fill:#1f77b4;stroke:#1f77b4;\" x=\"196.889885\" xlink:href=\"#m2314dc5f0c\" y=\"94.824744\"/>\n     <use style=\"fill:#1f77b4;stroke:#1f77b4;\" x=\"211.795206\" xlink:href=\"#m2314dc5f0c\" y=\"104.374503\"/>\n     <use style=\"fill:#1f77b4;stroke:#1f77b4;\" x=\"180.939612\" xlink:href=\"#m2314dc5f0c\" y=\"107.680639\"/>\n     <use style=\"fill:#1f77b4;stroke:#1f77b4;\" x=\"228.45073\" xlink:href=\"#m2314dc5f0c\" y=\"94.739751\"/>\n     <use style=\"fill:#1f77b4;stroke:#1f77b4;\" x=\"209.671\" xlink:href=\"#m2314dc5f0c\" y=\"106.662236\"/>\n     <use style=\"fill:#1f77b4;stroke:#1f77b4;\" x=\"222.931587\" xlink:href=\"#m2314dc5f0c\" y=\"109.370654\"/>\n     <use style=\"fill:#1f77b4;stroke:#1f77b4;\" x=\"220.494198\" xlink:href=\"#m2314dc5f0c\" y=\"107.592488\"/>\n     <use style=\"fill:#1f77b4;stroke:#1f77b4;\" x=\"217.225964\" xlink:href=\"#m2314dc5f0c\" y=\"111.654879\"/>\n     <use style=\"fill:#1f77b4;stroke:#1f77b4;\" x=\"226.107261\" xlink:href=\"#m2314dc5f0c\" y=\"105.36888\"/>\n     <use style=\"fill:#1f77b4;stroke:#1f77b4;\" x=\"199.740235\" xlink:href=\"#m2314dc5f0c\" y=\"111.796667\"/>\n     <use style=\"fill:#1f77b4;stroke:#1f77b4;\" x=\"213.488515\" xlink:href=\"#m2314dc5f0c\" y=\"96.025631\"/>\n     <use style=\"fill:#1f77b4;stroke:#1f77b4;\" x=\"177.840011\" xlink:href=\"#m2314dc5f0c\" y=\"103.401624\"/>\n     <use style=\"fill:#1f77b4;stroke:#1f77b4;\" x=\"203.069112\" xlink:href=\"#m2314dc5f0c\" y=\"91.772759\"/>\n     <use style=\"fill:#1f77b4;stroke:#1f77b4;\" x=\"185.6289\" xlink:href=\"#m2314dc5f0c\" y=\"131.964226\"/>\n     <use style=\"fill:#1f77b4;stroke:#1f77b4;\" x=\"198.252516\" xlink:href=\"#m2314dc5f0c\" y=\"111.527501\"/>\n     <use style=\"fill:#1f77b4;stroke:#1f77b4;\" x=\"188.763353\" xlink:href=\"#m2314dc5f0c\" y=\"104.356454\"/>\n     <use style=\"fill:#1f77b4;stroke:#1f77b4;\" x=\"200.110378\" xlink:href=\"#m2314dc5f0c\" y=\"117.611617\"/>\n     <use style=\"fill:#1f77b4;stroke:#1f77b4;\" x=\"187.141217\" xlink:href=\"#m2314dc5f0c\" y=\"116.065679\"/>\n     <use style=\"fill:#1f77b4;stroke:#1f77b4;\" x=\"211.856804\" xlink:href=\"#m2314dc5f0c\" y=\"101.253424\"/>\n     <use style=\"fill:#1f77b4;stroke:#1f77b4;\" x=\"190.857806\" xlink:href=\"#m2314dc5f0c\" y=\"95.813581\"/>\n     <use style=\"fill:#1f77b4;stroke:#1f77b4;\" x=\"190.607483\" xlink:href=\"#m2314dc5f0c\" y=\"105.446496\"/>\n     <use style=\"fill:#1f77b4;stroke:#1f77b4;\" x=\"172.482769\" xlink:href=\"#m2314dc5f0c\" y=\"131.544051\"/>\n     <use style=\"fill:#1f77b4;stroke:#1f77b4;\" x=\"209.345425\" xlink:href=\"#m2314dc5f0c\" y=\"98.664207\"/>\n     <use style=\"fill:#1f77b4;stroke:#1f77b4;\" x=\"235.56992\" xlink:href=\"#m2314dc5f0c\" y=\"103.618465\"/>\n     <use style=\"fill:#1f77b4;stroke:#1f77b4;\" x=\"199.032405\" xlink:href=\"#m2314dc5f0c\" y=\"122.001431\"/>\n     <use style=\"fill:#1f77b4;stroke:#1f77b4;\" x=\"192.58433\" xlink:href=\"#m2314dc5f0c\" y=\"124.140875\"/>\n     <use style=\"fill:#1f77b4;stroke:#1f77b4;\" x=\"188.135131\" xlink:href=\"#m2314dc5f0c\" y=\"110.032564\"/>\n     <use style=\"fill:#1f77b4;stroke:#1f77b4;\" x=\"196.750633\" xlink:href=\"#m2314dc5f0c\" y=\"110.029582\"/>\n     <use style=\"fill:#1f77b4;stroke:#1f77b4;\" x=\"222.391765\" xlink:href=\"#m2314dc5f0c\" y=\"117.01338\"/>\n     <use style=\"fill:#1f77b4;stroke:#1f77b4;\" x=\"205.639443\" xlink:href=\"#m2314dc5f0c\" y=\"105.930285\"/>\n     <use style=\"fill:#1f77b4;stroke:#1f77b4;\" x=\"190.423159\" xlink:href=\"#m2314dc5f0c\" y=\"118.906495\"/>\n     <use style=\"fill:#1f77b4;stroke:#1f77b4;\" x=\"202.150765\" xlink:href=\"#m2314dc5f0c\" y=\"111.083543\"/>\n     <use style=\"fill:#1f77b4;stroke:#1f77b4;\" x=\"225.880386\" xlink:href=\"#m2314dc5f0c\" y=\"101.760083\"/>\n     <use style=\"fill:#1f77b4;stroke:#1f77b4;\" x=\"189.622543\" xlink:href=\"#m2314dc5f0c\" y=\"121.700882\"/>\n     <use style=\"fill:#1f77b4;stroke:#1f77b4;\" x=\"193.068861\" xlink:href=\"#m2314dc5f0c\" y=\"112.010748\"/>\n     <use style=\"fill:#1f77b4;stroke:#1f77b4;\" x=\"222.085077\" xlink:href=\"#m2314dc5f0c\" y=\"110.869678\"/>\n     <use style=\"fill:#1f77b4;stroke:#1f77b4;\" x=\"212.212742\" xlink:href=\"#m2314dc5f0c\" y=\"118.03066\"/>\n     <use style=\"fill:#1f77b4;stroke:#1f77b4;\" x=\"213.374319\" xlink:href=\"#m2314dc5f0c\" y=\"115.621763\"/>\n     <use style=\"fill:#1f77b4;stroke:#1f77b4;\" x=\"191.420798\" xlink:href=\"#m2314dc5f0c\" y=\"102.307452\"/>\n     <use style=\"fill:#1f77b4;stroke:#1f77b4;\" x=\"200.086999\" xlink:href=\"#m2314dc5f0c\" y=\"116.835957\"/>\n     <use style=\"fill:#1f77b4;stroke:#1f77b4;\" x=\"208.20086\" xlink:href=\"#m2314dc5f0c\" y=\"96.481469\"/>\n     <use style=\"fill:#1f77b4;stroke:#1f77b4;\" x=\"195.510042\" xlink:href=\"#m2314dc5f0c\" y=\"101.21202\"/>\n     <use style=\"fill:#1f77b4;stroke:#1f77b4;\" x=\"216.225209\" xlink:href=\"#m2314dc5f0c\" y=\"120.291709\"/>\n     <use style=\"fill:#1f77b4;stroke:#1f77b4;\" x=\"199.387178\" xlink:href=\"#m2314dc5f0c\" y=\"112.165321\"/>\n     <use style=\"fill:#1f77b4;stroke:#1f77b4;\" x=\"199.262021\" xlink:href=\"#m2314dc5f0c\" y=\"108.514123\"/>\n     <use style=\"fill:#1f77b4;stroke:#1f77b4;\" x=\"203.984477\" xlink:href=\"#m2314dc5f0c\" y=\"119.105746\"/>\n     <use style=\"fill:#1f77b4;stroke:#1f77b4;\" x=\"224.544019\" xlink:href=\"#m2314dc5f0c\" y=\"98.556356\"/>\n     <use style=\"fill:#1f77b4;stroke:#1f77b4;\" x=\"189.275587\" xlink:href=\"#m2314dc5f0c\" y=\"89.961858\"/>\n     <use style=\"fill:#1f77b4;stroke:#1f77b4;\" x=\"181.811374\" xlink:href=\"#m2314dc5f0c\" y=\"118.52225\"/>\n     <use style=\"fill:#1f77b4;stroke:#1f77b4;\" x=\"209.134269\" xlink:href=\"#m2314dc5f0c\" y=\"91.55892\"/>\n     <use style=\"fill:#1f77b4;stroke:#1f77b4;\" x=\"191.044341\" xlink:href=\"#m2314dc5f0c\" y=\"117.546604\"/>\n     <use style=\"fill:#1f77b4;stroke:#1f77b4;\" x=\"168.92651\" xlink:href=\"#m2314dc5f0c\" y=\"112.520084\"/>\n     <use style=\"fill:#1f77b4;stroke:#1f77b4;\" x=\"192.792386\" xlink:href=\"#m2314dc5f0c\" y=\"106.954487\"/>\n     <use style=\"fill:#1f77b4;stroke:#1f77b4;\" x=\"235.768215\" xlink:href=\"#m2314dc5f0c\" y=\"104.309499\"/>\n     <use style=\"fill:#1f77b4;stroke:#1f77b4;\" x=\"205.689922\" xlink:href=\"#m2314dc5f0c\" y=\"120.753954\"/>\n     <use style=\"fill:#1f77b4;stroke:#1f77b4;\" x=\"218.989221\" xlink:href=\"#m2314dc5f0c\" y=\"102.95157\"/>\n     <use style=\"fill:#1f77b4;stroke:#1f77b4;\" x=\"215.400843\" xlink:href=\"#m2314dc5f0c\" y=\"104.157043\"/>\n     <use style=\"fill:#1f77b4;stroke:#1f77b4;\" x=\"192.141866\" xlink:href=\"#m2314dc5f0c\" y=\"115.122545\"/>\n     <use style=\"fill:#1f77b4;stroke:#1f77b4;\" x=\"187.552687\" xlink:href=\"#m2314dc5f0c\" y=\"111.796758\"/>\n     <use style=\"fill:#1f77b4;stroke:#1f77b4;\" x=\"199.447464\" xlink:href=\"#m2314dc5f0c\" y=\"116.205613\"/>\n     <use style=\"fill:#1f77b4;stroke:#1f77b4;\" x=\"222.336884\" xlink:href=\"#m2314dc5f0c\" y=\"103.759403\"/>\n     <use style=\"fill:#1f77b4;stroke:#1f77b4;\" x=\"206.588394\" xlink:href=\"#m2314dc5f0c\" y=\"107.931663\"/>\n     <use style=\"fill:#1f77b4;stroke:#1f77b4;\" x=\"200.175627\" xlink:href=\"#m2314dc5f0c\" y=\"102.763539\"/>\n     <use style=\"fill:#1f77b4;stroke:#1f77b4;\" x=\"205.131719\" xlink:href=\"#m2314dc5f0c\" y=\"109.17891\"/>\n     <use style=\"fill:#1f77b4;stroke:#1f77b4;\" x=\"212.074038\" xlink:href=\"#m2314dc5f0c\" y=\"110.121895\"/>\n     <use style=\"fill:#1f77b4;stroke:#1f77b4;\" x=\"204.736823\" xlink:href=\"#m2314dc5f0c\" y=\"98.659903\"/>\n     <use style=\"fill:#1f77b4;stroke:#1f77b4;\" x=\"212.561683\" xlink:href=\"#m2314dc5f0c\" y=\"116.005333\"/>\n     <use style=\"fill:#1f77b4;stroke:#1f77b4;\" x=\"211.677711\" xlink:href=\"#m2314dc5f0c\" y=\"116.265584\"/>\n     <use style=\"fill:#1f77b4;stroke:#1f77b4;\" x=\"208.028226\" xlink:href=\"#m2314dc5f0c\" y=\"106.135892\"/>\n     <use style=\"fill:#1f77b4;stroke:#1f77b4;\" x=\"212.252052\" xlink:href=\"#m2314dc5f0c\" y=\"103.980843\"/>\n     <use style=\"fill:#1f77b4;stroke:#1f77b4;\" x=\"206.79184\" xlink:href=\"#m2314dc5f0c\" y=\"100.322804\"/>\n     <use style=\"fill:#1f77b4;stroke:#1f77b4;\" x=\"171.018534\" xlink:href=\"#m2314dc5f0c\" y=\"124.917762\"/>\n     <use style=\"fill:#1f77b4;stroke:#1f77b4;\" x=\"188.03229\" xlink:href=\"#m2314dc5f0c\" y=\"163.984328\"/>\n     <use style=\"fill:#1f77b4;stroke:#1f77b4;\" x=\"329.639163\" xlink:href=\"#m2314dc5f0c\" y=\"215.021118\"/>\n     <use style=\"fill:#1f77b4;stroke:#1f77b4;\" x=\"178.163464\" xlink:href=\"#m2314dc5f0c\" y=\"114.024195\"/>\n     <use style=\"fill:#1f77b4;stroke:#1f77b4;\" x=\"294.522279\" xlink:href=\"#m2314dc5f0c\" y=\"153.587238\"/>\n     <use style=\"fill:#1f77b4;stroke:#1f77b4;\" x=\"356.047443\" xlink:href=\"#m2314dc5f0c\" y=\"96.044734\"/>\n     <use style=\"fill:#1f77b4;stroke:#1f77b4;\" x=\"272.8848\" xlink:href=\"#m2314dc5f0c\" y=\"79.629796\"/>\n     <use style=\"fill:#1f77b4;stroke:#1f77b4;\" x=\"51.683807\" xlink:href=\"#m2314dc5f0c\" y=\"17.348391\"/>\n    </g>\n   </g>\n   <g id=\"PathCollection_2\">\n    <defs>\n     <path d=\"M 0 3 \nC 0.795609 3 1.55874 2.683901 2.12132 2.12132 \nC 2.683901 1.55874 3 0.795609 3 0 \nC 3 -0.795609 2.683901 -1.55874 2.12132 -2.12132 \nC 1.55874 -2.683901 0.795609 -3 0 -3 \nC -0.795609 -3 -1.55874 -2.683901 -2.12132 -2.12132 \nC -2.683901 -1.55874 -3 -0.795609 -3 0 \nC -3 0.795609 -2.683901 1.55874 -2.12132 2.12132 \nC -1.55874 2.683901 -0.795609 3 0 3 \nz\n\" id=\"mce056f552d\" style=\"stroke:#ff0000;\"/>\n    </defs>\n    <g clip-path=\"url(#pd824e02489)\">\n     <use style=\"fill:#ff0000;stroke:#ff0000;\" x=\"188.03229\" xlink:href=\"#mce056f552d\" y=\"163.984328\"/>\n    </g>\n   </g>\n   <g id=\"PathCollection_3\">\n    <g clip-path=\"url(#pd824e02489)\">\n     <use style=\"fill:#ff0000;stroke:#ff0000;\" x=\"329.639163\" xlink:href=\"#mce056f552d\" y=\"215.021118\"/>\n    </g>\n   </g>\n   <g id=\"PathCollection_4\">\n    <g clip-path=\"url(#pd824e02489)\">\n     <use style=\"fill:#ff0000;stroke:#ff0000;\" x=\"294.522279\" xlink:href=\"#mce056f552d\" y=\"153.587238\"/>\n    </g>\n   </g>\n   <g id=\"PathCollection_5\">\n    <g clip-path=\"url(#pd824e02489)\">\n     <use style=\"fill:#ff0000;stroke:#ff0000;\" x=\"356.047443\" xlink:href=\"#mce056f552d\" y=\"96.044734\"/>\n    </g>\n   </g>\n   <g id=\"PathCollection_6\">\n    <g clip-path=\"url(#pd824e02489)\">\n     <use style=\"fill:#ff0000;stroke:#ff0000;\" x=\"272.8848\" xlink:href=\"#mce056f552d\" y=\"79.629796\"/>\n    </g>\n   </g>\n   <g id=\"PathCollection_7\">\n    <g clip-path=\"url(#pd824e02489)\">\n     <use style=\"fill:#ff0000;stroke:#ff0000;\" x=\"51.683807\" xlink:href=\"#mce056f552d\" y=\"17.348391\"/>\n    </g>\n   </g>\n   <g id=\"matplotlib.axis_1\">\n    <g id=\"xtick_1\">\n     <g id=\"line2d_1\">\n      <defs>\n       <path d=\"M 0 0 \nL 0 3.5 \n\" id=\"m8b409f9602\" style=\"stroke:#000000;stroke-width:0.8;\"/>\n      </defs>\n      <g>\n       <use style=\"stroke:#000000;stroke-width:0.8;\" x=\"55.734736\" xlink:href=\"#m8b409f9602\" y=\"224.904755\"/>\n      </g>\n     </g>\n     <g id=\"text_1\">\n      <!-- 5.0 -->\n      <g transform=\"translate(47.783174 239.503192)scale(0.1 -0.1)\">\n       <defs>\n        <path d=\"M 10.796875 72.90625 \nL 49.515625 72.90625 \nL 49.515625 64.59375 \nL 19.828125 64.59375 \nL 19.828125 46.734375 \nQ 21.96875 47.46875 24.109375 47.828125 \nQ 26.265625 48.1875 28.421875 48.1875 \nQ 40.625 48.1875 47.75 41.5 \nQ 54.890625 34.8125 54.890625 23.390625 \nQ 54.890625 11.625 47.5625 5.09375 \nQ 40.234375 -1.421875 26.90625 -1.421875 \nQ 22.3125 -1.421875 17.546875 -0.640625 \nQ 12.796875 0.140625 7.71875 1.703125 \nL 7.71875 11.625 \nQ 12.109375 9.234375 16.796875 8.0625 \nQ 21.484375 6.890625 26.703125 6.890625 \nQ 35.15625 6.890625 40.078125 11.328125 \nQ 45.015625 15.765625 45.015625 23.390625 \nQ 45.015625 31 40.078125 35.4375 \nQ 35.15625 39.890625 26.703125 39.890625 \nQ 22.75 39.890625 18.8125 39.015625 \nQ 14.890625 38.140625 10.796875 36.28125 \nz\n\" id=\"DejaVuSans-53\"/>\n        <path d=\"M 10.6875 12.40625 \nL 21 12.40625 \nL 21 0 \nL 10.6875 0 \nz\n\" id=\"DejaVuSans-46\"/>\n        <path d=\"M 31.78125 66.40625 \nQ 24.171875 66.40625 20.328125 58.90625 \nQ 16.5 51.421875 16.5 36.375 \nQ 16.5 21.390625 20.328125 13.890625 \nQ 24.171875 6.390625 31.78125 6.390625 \nQ 39.453125 6.390625 43.28125 13.890625 \nQ 47.125 21.390625 47.125 36.375 \nQ 47.125 51.421875 43.28125 58.90625 \nQ 39.453125 66.40625 31.78125 66.40625 \nz\nM 31.78125 74.21875 \nQ 44.046875 74.21875 50.515625 64.515625 \nQ 56.984375 54.828125 56.984375 36.375 \nQ 56.984375 17.96875 50.515625 8.265625 \nQ 44.046875 -1.421875 31.78125 -1.421875 \nQ 19.53125 -1.421875 13.0625 8.265625 \nQ 6.59375 17.96875 6.59375 36.375 \nQ 6.59375 54.828125 13.0625 64.515625 \nQ 19.53125 74.21875 31.78125 74.21875 \nz\n\" id=\"DejaVuSans-48\"/>\n       </defs>\n       <use xlink:href=\"#DejaVuSans-53\"/>\n       <use x=\"63.623047\" xlink:href=\"#DejaVuSans-46\"/>\n       <use x=\"95.410156\" xlink:href=\"#DejaVuSans-48\"/>\n      </g>\n     </g>\n    </g>\n    <g id=\"xtick_2\">\n     <g id=\"line2d_2\">\n      <g>\n       <use style=\"stroke:#000000;stroke-width:0.8;\" x=\"96.671879\" xlink:href=\"#m8b409f9602\" y=\"224.904755\"/>\n      </g>\n     </g>\n     <g id=\"text_2\">\n      <!-- 7.5 -->\n      <g transform=\"translate(88.720316 239.503192)scale(0.1 -0.1)\">\n       <defs>\n        <path d=\"M 8.203125 72.90625 \nL 55.078125 72.90625 \nL 55.078125 68.703125 \nL 28.609375 0 \nL 18.3125 0 \nL 43.21875 64.59375 \nL 8.203125 64.59375 \nz\n\" id=\"DejaVuSans-55\"/>\n       </defs>\n       <use xlink:href=\"#DejaVuSans-55\"/>\n       <use x=\"63.623047\" xlink:href=\"#DejaVuSans-46\"/>\n       <use x=\"95.410156\" xlink:href=\"#DejaVuSans-53\"/>\n      </g>\n     </g>\n    </g>\n    <g id=\"xtick_3\">\n     <g id=\"line2d_3\">\n      <g>\n       <use style=\"stroke:#000000;stroke-width:0.8;\" x=\"137.609021\" xlink:href=\"#m8b409f9602\" y=\"224.904755\"/>\n      </g>\n     </g>\n     <g id=\"text_3\">\n      <!-- 10.0 -->\n      <g transform=\"translate(126.476209 239.503192)scale(0.1 -0.1)\">\n       <defs>\n        <path d=\"M 12.40625 8.296875 \nL 28.515625 8.296875 \nL 28.515625 63.921875 \nL 10.984375 60.40625 \nL 10.984375 69.390625 \nL 28.421875 72.90625 \nL 38.28125 72.90625 \nL 38.28125 8.296875 \nL 54.390625 8.296875 \nL 54.390625 0 \nL 12.40625 0 \nz\n\" id=\"DejaVuSans-49\"/>\n       </defs>\n       <use xlink:href=\"#DejaVuSans-49\"/>\n       <use x=\"63.623047\" xlink:href=\"#DejaVuSans-48\"/>\n       <use x=\"127.246094\" xlink:href=\"#DejaVuSans-46\"/>\n       <use x=\"159.033203\" xlink:href=\"#DejaVuSans-48\"/>\n      </g>\n     </g>\n    </g>\n    <g id=\"xtick_4\">\n     <g id=\"line2d_4\">\n      <g>\n       <use style=\"stroke:#000000;stroke-width:0.8;\" x=\"178.546163\" xlink:href=\"#m8b409f9602\" y=\"224.904755\"/>\n      </g>\n     </g>\n     <g id=\"text_4\">\n      <!-- 12.5 -->\n      <g transform=\"translate(167.413351 239.503192)scale(0.1 -0.1)\">\n       <defs>\n        <path d=\"M 19.1875 8.296875 \nL 53.609375 8.296875 \nL 53.609375 0 \nL 7.328125 0 \nL 7.328125 8.296875 \nQ 12.9375 14.109375 22.625 23.890625 \nQ 32.328125 33.6875 34.8125 36.53125 \nQ 39.546875 41.84375 41.421875 45.53125 \nQ 43.3125 49.21875 43.3125 52.78125 \nQ 43.3125 58.59375 39.234375 62.25 \nQ 35.15625 65.921875 28.609375 65.921875 \nQ 23.96875 65.921875 18.8125 64.3125 \nQ 13.671875 62.703125 7.8125 59.421875 \nL 7.8125 69.390625 \nQ 13.765625 71.78125 18.9375 73 \nQ 24.125 74.21875 28.421875 74.21875 \nQ 39.75 74.21875 46.484375 68.546875 \nQ 53.21875 62.890625 53.21875 53.421875 \nQ 53.21875 48.921875 51.53125 44.890625 \nQ 49.859375 40.875 45.40625 35.40625 \nQ 44.1875 33.984375 37.640625 27.21875 \nQ 31.109375 20.453125 19.1875 8.296875 \nz\n\" id=\"DejaVuSans-50\"/>\n       </defs>\n       <use xlink:href=\"#DejaVuSans-49\"/>\n       <use x=\"63.623047\" xlink:href=\"#DejaVuSans-50\"/>\n       <use x=\"127.246094\" xlink:href=\"#DejaVuSans-46\"/>\n       <use x=\"159.033203\" xlink:href=\"#DejaVuSans-53\"/>\n      </g>\n     </g>\n    </g>\n    <g id=\"xtick_5\">\n     <g id=\"line2d_5\">\n      <g>\n       <use style=\"stroke:#000000;stroke-width:0.8;\" x=\"219.483306\" xlink:href=\"#m8b409f9602\" y=\"224.904755\"/>\n      </g>\n     </g>\n     <g id=\"text_5\">\n      <!-- 15.0 -->\n      <g transform=\"translate(208.350493 239.503192)scale(0.1 -0.1)\">\n       <use xlink:href=\"#DejaVuSans-49\"/>\n       <use x=\"63.623047\" xlink:href=\"#DejaVuSans-53\"/>\n       <use x=\"127.246094\" xlink:href=\"#DejaVuSans-46\"/>\n       <use x=\"159.033203\" xlink:href=\"#DejaVuSans-48\"/>\n      </g>\n     </g>\n    </g>\n    <g id=\"xtick_6\">\n     <g id=\"line2d_6\">\n      <g>\n       <use style=\"stroke:#000000;stroke-width:0.8;\" x=\"260.420448\" xlink:href=\"#m8b409f9602\" y=\"224.904755\"/>\n      </g>\n     </g>\n     <g id=\"text_6\">\n      <!-- 17.5 -->\n      <g transform=\"translate(249.287635 239.503192)scale(0.1 -0.1)\">\n       <use xlink:href=\"#DejaVuSans-49\"/>\n       <use x=\"63.623047\" xlink:href=\"#DejaVuSans-55\"/>\n       <use x=\"127.246094\" xlink:href=\"#DejaVuSans-46\"/>\n       <use x=\"159.033203\" xlink:href=\"#DejaVuSans-53\"/>\n      </g>\n     </g>\n    </g>\n    <g id=\"xtick_7\">\n     <g id=\"line2d_7\">\n      <g>\n       <use style=\"stroke:#000000;stroke-width:0.8;\" x=\"301.35759\" xlink:href=\"#m8b409f9602\" y=\"224.904755\"/>\n      </g>\n     </g>\n     <g id=\"text_7\">\n      <!-- 20.0 -->\n      <g transform=\"translate(290.224778 239.503192)scale(0.1 -0.1)\">\n       <use xlink:href=\"#DejaVuSans-50\"/>\n       <use x=\"63.623047\" xlink:href=\"#DejaVuSans-48\"/>\n       <use x=\"127.246094\" xlink:href=\"#DejaVuSans-46\"/>\n       <use x=\"159.033203\" xlink:href=\"#DejaVuSans-48\"/>\n      </g>\n     </g>\n    </g>\n    <g id=\"xtick_8\">\n     <g id=\"line2d_8\">\n      <g>\n       <use style=\"stroke:#000000;stroke-width:0.8;\" x=\"342.294733\" xlink:href=\"#m8b409f9602\" y=\"224.904755\"/>\n      </g>\n     </g>\n     <g id=\"text_8\">\n      <!-- 22.5 -->\n      <g transform=\"translate(331.16192 239.503192)scale(0.1 -0.1)\">\n       <use xlink:href=\"#DejaVuSans-50\"/>\n       <use x=\"63.623047\" xlink:href=\"#DejaVuSans-50\"/>\n       <use x=\"127.246094\" xlink:href=\"#DejaVuSans-46\"/>\n       <use x=\"159.033203\" xlink:href=\"#DejaVuSans-53\"/>\n      </g>\n     </g>\n    </g>\n   </g>\n   <g id=\"matplotlib.axis_2\">\n    <g id=\"ytick_1\">\n     <g id=\"line2d_9\">\n      <defs>\n       <path d=\"M 0 0 \nL -3.5 0 \n\" id=\"m9bff8c0f90\" style=\"stroke:#000000;stroke-width:0.8;\"/>\n      </defs>\n      <g>\n       <use style=\"stroke:#000000;stroke-width:0.8;\" x=\"36.465625\" xlink:href=\"#m9bff8c0f90\" y=\"206.480841\"/>\n      </g>\n     </g>\n     <g id=\"text_9\">\n      <!-- 5.0 -->\n      <g transform=\"translate(13.5625 210.28006)scale(0.1 -0.1)\">\n       <use xlink:href=\"#DejaVuSans-53\"/>\n       <use x=\"63.623047\" xlink:href=\"#DejaVuSans-46\"/>\n       <use x=\"95.410156\" xlink:href=\"#DejaVuSans-48\"/>\n      </g>\n     </g>\n    </g>\n    <g id=\"ytick_2\">\n     <g id=\"line2d_10\">\n      <g>\n       <use style=\"stroke:#000000;stroke-width:0.8;\" x=\"36.465625\" xlink:href=\"#m9bff8c0f90\" y=\"182.045638\"/>\n      </g>\n     </g>\n     <g id=\"text_10\">\n      <!-- 7.5 -->\n      <g transform=\"translate(13.5625 185.844857)scale(0.1 -0.1)\">\n       <use xlink:href=\"#DejaVuSans-55\"/>\n       <use x=\"63.623047\" xlink:href=\"#DejaVuSans-46\"/>\n       <use x=\"95.410156\" xlink:href=\"#DejaVuSans-53\"/>\n      </g>\n     </g>\n    </g>\n    <g id=\"ytick_3\">\n     <g id=\"line2d_11\">\n      <g>\n       <use style=\"stroke:#000000;stroke-width:0.8;\" x=\"36.465625\" xlink:href=\"#m9bff8c0f90\" y=\"157.610436\"/>\n      </g>\n     </g>\n     <g id=\"text_11\">\n      <!-- 10.0 -->\n      <g transform=\"translate(7.2 161.409654)scale(0.1 -0.1)\">\n       <use xlink:href=\"#DejaVuSans-49\"/>\n       <use x=\"63.623047\" xlink:href=\"#DejaVuSans-48\"/>\n       <use x=\"127.246094\" xlink:href=\"#DejaVuSans-46\"/>\n       <use x=\"159.033203\" xlink:href=\"#DejaVuSans-48\"/>\n      </g>\n     </g>\n    </g>\n    <g id=\"ytick_4\">\n     <g id=\"line2d_12\">\n      <g>\n       <use style=\"stroke:#000000;stroke-width:0.8;\" x=\"36.465625\" xlink:href=\"#m9bff8c0f90\" y=\"133.175233\"/>\n      </g>\n     </g>\n     <g id=\"text_12\">\n      <!-- 12.5 -->\n      <g transform=\"translate(7.2 136.974452)scale(0.1 -0.1)\">\n       <use xlink:href=\"#DejaVuSans-49\"/>\n       <use x=\"63.623047\" xlink:href=\"#DejaVuSans-50\"/>\n       <use x=\"127.246094\" xlink:href=\"#DejaVuSans-46\"/>\n       <use x=\"159.033203\" xlink:href=\"#DejaVuSans-53\"/>\n      </g>\n     </g>\n    </g>\n    <g id=\"ytick_5\">\n     <g id=\"line2d_13\">\n      <g>\n       <use style=\"stroke:#000000;stroke-width:0.8;\" x=\"36.465625\" xlink:href=\"#m9bff8c0f90\" y=\"108.74003\"/>\n      </g>\n     </g>\n     <g id=\"text_13\">\n      <!-- 15.0 -->\n      <g transform=\"translate(7.2 112.539249)scale(0.1 -0.1)\">\n       <use xlink:href=\"#DejaVuSans-49\"/>\n       <use x=\"63.623047\" xlink:href=\"#DejaVuSans-53\"/>\n       <use x=\"127.246094\" xlink:href=\"#DejaVuSans-46\"/>\n       <use x=\"159.033203\" xlink:href=\"#DejaVuSans-48\"/>\n      </g>\n     </g>\n    </g>\n    <g id=\"ytick_6\">\n     <g id=\"line2d_14\">\n      <g>\n       <use style=\"stroke:#000000;stroke-width:0.8;\" x=\"36.465625\" xlink:href=\"#m9bff8c0f90\" y=\"84.304827\"/>\n      </g>\n     </g>\n     <g id=\"text_14\">\n      <!-- 17.5 -->\n      <g transform=\"translate(7.2 88.104046)scale(0.1 -0.1)\">\n       <use xlink:href=\"#DejaVuSans-49\"/>\n       <use x=\"63.623047\" xlink:href=\"#DejaVuSans-55\"/>\n       <use x=\"127.246094\" xlink:href=\"#DejaVuSans-46\"/>\n       <use x=\"159.033203\" xlink:href=\"#DejaVuSans-53\"/>\n      </g>\n     </g>\n    </g>\n    <g id=\"ytick_7\">\n     <g id=\"line2d_15\">\n      <g>\n       <use style=\"stroke:#000000;stroke-width:0.8;\" x=\"36.465625\" xlink:href=\"#m9bff8c0f90\" y=\"59.869624\"/>\n      </g>\n     </g>\n     <g id=\"text_15\">\n      <!-- 20.0 -->\n      <g transform=\"translate(7.2 63.668843)scale(0.1 -0.1)\">\n       <use xlink:href=\"#DejaVuSans-50\"/>\n       <use x=\"63.623047\" xlink:href=\"#DejaVuSans-48\"/>\n       <use x=\"127.246094\" xlink:href=\"#DejaVuSans-46\"/>\n       <use x=\"159.033203\" xlink:href=\"#DejaVuSans-48\"/>\n      </g>\n     </g>\n    </g>\n    <g id=\"ytick_8\">\n     <g id=\"line2d_16\">\n      <g>\n       <use style=\"stroke:#000000;stroke-width:0.8;\" x=\"36.465625\" xlink:href=\"#m9bff8c0f90\" y=\"35.434422\"/>\n      </g>\n     </g>\n     <g id=\"text_16\">\n      <!-- 22.5 -->\n      <g transform=\"translate(7.2 39.23364)scale(0.1 -0.1)\">\n       <use xlink:href=\"#DejaVuSans-50\"/>\n       <use x=\"63.623047\" xlink:href=\"#DejaVuSans-50\"/>\n       <use x=\"127.246094\" xlink:href=\"#DejaVuSans-46\"/>\n       <use x=\"159.033203\" xlink:href=\"#DejaVuSans-53\"/>\n      </g>\n     </g>\n    </g>\n    <g id=\"ytick_9\">\n     <g id=\"line2d_17\">\n      <g>\n       <use style=\"stroke:#000000;stroke-width:0.8;\" x=\"36.465625\" xlink:href=\"#m9bff8c0f90\" y=\"10.999219\"/>\n      </g>\n     </g>\n     <g id=\"text_17\">\n      <!-- 25.0 -->\n      <g transform=\"translate(7.2 14.798437)scale(0.1 -0.1)\">\n       <use xlink:href=\"#DejaVuSans-50\"/>\n       <use x=\"63.623047\" xlink:href=\"#DejaVuSans-53\"/>\n       <use x=\"127.246094\" xlink:href=\"#DejaVuSans-46\"/>\n       <use x=\"159.033203\" xlink:href=\"#DejaVuSans-48\"/>\n      </g>\n     </g>\n    </g>\n   </g>\n   <g id=\"patch_3\">\n    <path d=\"M 36.465625 224.904755 \nL 36.465625 7.464755 \n\" style=\"fill:none;stroke:#000000;stroke-linecap:square;stroke-linejoin:miter;stroke-width:0.8;\"/>\n   </g>\n   <g id=\"patch_4\">\n    <path d=\"M 371.265625 224.904755 \nL 371.265625 7.464755 \n\" style=\"fill:none;stroke:#000000;stroke-linecap:square;stroke-linejoin:miter;stroke-width:0.8;\"/>\n   </g>\n   <g id=\"patch_5\">\n    <path d=\"M 36.465625 224.904755 \nL 371.265625 224.904755 \n\" style=\"fill:none;stroke:#000000;stroke-linecap:square;stroke-linejoin:miter;stroke-width:0.8;\"/>\n   </g>\n   <g id=\"patch_6\">\n    <path d=\"M 36.465625 7.464755 \nL 371.265625 7.464755 \n\" style=\"fill:none;stroke:#000000;stroke-linecap:square;stroke-linejoin:miter;stroke-width:0.8;\"/>\n   </g>\n  </g>\n </g>\n <defs>\n  <clipPath id=\"pd824e02489\">\n   <rect height=\"217.44\" width=\"334.8\" x=\"36.465625\" y=\"7.464755\"/>\n  </clipPath>\n </defs>\n</svg>\n",
      "image/png": "[encoded data removed]"
     },
     "metadata": {
      "needs_background": "light"
     }
    }
   ],
   "source": [
    "plt.figure()\n",
    "\n",
    "plt.scatter(df[0], df[1])\n",
    "for index, row in df.iterrows():\n",
    "    # print(row['label'])\n",
    "    if int(row['label']) == 1:\n",
    "        # print(\"******\\n\", row, \"\\n\")\n",
    "        plt.scatter(row[0], row[1], color = 'red')\n",
    "   \n",
    "        # plt.plot(row['0'], row['1'])\n",
    "\n",
    "# for sublist in label:\n",
    "#     if sublist is 1:\n",
    "#         # print(\"1******\")\n",
    "#         plt.scatter(df[0], df[1], color = 'blue')\n",
    "#     elif sublist is 0:\n",
    "#         # print(\"0******\")\n",
    "#         plt.scatter(df[0], df[1], color = 'red')\n",
    "# plt.scatter(df[0], df[1], c= lambda x: 'red' if df['label'] is '1' else 'blue')\n",
    "plt.show()"
   ]
  },
  {
   "cell_type": "code",
   "execution_count": null,
   "metadata": {},
   "outputs": [],
   "source": []
  }
 ]
}